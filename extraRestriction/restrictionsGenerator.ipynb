{
 "cells": [
  {
   "cell_type": "code",
   "execution_count": 1,
   "metadata": {},
   "outputs": [],
   "source": [
    "import itertools\n",
    "import numpy as np"
   ]
  },
  {
   "cell_type": "markdown",
   "metadata": {},
   "source": [
    "# x_1 + x_2 + x_3"
   ]
  },
  {
   "cell_type": "code",
   "execution_count": 2,
   "metadata": {},
   "outputs": [],
   "source": [
    "def isBoolLarger(a,b):\n",
    "    if  a!=b and a&b == a:\n",
    "        return True\n",
    "    else:\n",
    "        return False"
   ]
  },
  {
   "cell_type": "code",
   "execution_count": 3,
   "metadata": {},
   "outputs": [],
   "source": [
    "s = [[x for x in range(8)] for _ in range(4)]\n",
    "l = itertools.product(*s)\n",
    "ret = []\n",
    "for temp in l:\n",
    "    t1, t2, t3, t4 = temp\n",
    "    if isBoolLarger(t1,t2) and isBoolLarger(t1,t3) and isBoolLarger(t2,t4) and isBoolLarger(t3,t4):\n",
    "        if t1 + t4 == t2 + t3:\n",
    "            ret.append([t1,t2,t3,t4])"
   ]
  },
  {
   "cell_type": "code",
   "execution_count": 4,
   "metadata": {},
   "outputs": [],
   "source": [
    "template = [0 for _ in range(8)]\n",
    "reslice= []\n",
    "for i in range(len(ret)):\n",
    "    curr = template.copy()\n",
    "    p1, p2, p3, p4 = ret[i]\n",
    "    \n",
    "    curr[p1], curr[p2], curr[p3], curr[p4] = -1, 1, 1, -1\n",
    "    reslice.append(curr)      "
   ]
  },
  {
   "cell_type": "code",
   "execution_count": 5,
   "metadata": {},
   "outputs": [],
   "source": [
    "reslice8 =np.array(reslice)"
   ]
  },
  {
   "cell_type": "code",
   "execution_count": 6,
   "metadata": {},
   "outputs": [],
   "source": [
    "reslice8 = np.unique(reslice8, axis = 0)"
   ]
  },
  {
   "cell_type": "markdown",
   "metadata": {},
   "source": [
    "## maximal conic independent set"
   ]
  },
  {
   "cell_type": "code",
   "execution_count": 7,
   "metadata": {},
   "outputs": [],
   "source": [
    "from scipy.optimize import linprog"
   ]
  },
  {
   "cell_type": "code",
   "execution_count": 8,
   "metadata": {},
   "outputs": [],
   "source": [
    "basis8 = reslice8[0:1]\n",
    "for i in range(1,len(reslice8)):\n",
    "    c = np.array([0 for _ in range(len(basis8))])\n",
    "    if linprog(c = c,A_eq=basis8.T,b_eq= reslice8[i],bounds=(0,None)).success:\n",
    "        continue\n",
    "    else:\n",
    "        basis8 = np.append(basis8,[reslice8[i]],axis = 0)   "
   ]
  },
  {
   "cell_type": "code",
   "execution_count": 9,
   "metadata": {},
   "outputs": [
    {
     "data": {
      "text/plain": [
       "(9, 9)"
      ]
     },
     "execution_count": 9,
     "metadata": {},
     "output_type": "execute_result"
    }
   ],
   "source": [
    "len(reslice8), len(basis8)"
   ]
  },
  {
   "cell_type": "markdown",
   "metadata": {},
   "source": [
    "# x_1 + x_2 + x_3 + x_4"
   ]
  },
  {
   "cell_type": "code",
   "execution_count": 10,
   "metadata": {},
   "outputs": [],
   "source": [
    "s = [[x for x in range(16)] for _ in range(4)]\n",
    "l = itertools.product(*s)\n",
    "ret = []\n",
    "for temp in l:\n",
    "    t1, t2, t3, t4 = temp\n",
    "    if isBoolLarger(t1,t2) and isBoolLarger(t1,t3) and isBoolLarger(t2,t4) and isBoolLarger(t3,t4):\n",
    "        if t1 + t4 == t2 + t3:\n",
    "            ret.append([t1,t2,t3,t4])"
   ]
  },
  {
   "cell_type": "code",
   "execution_count": 11,
   "metadata": {},
   "outputs": [],
   "source": [
    "template = [0 for _ in range(16)]\n",
    "reslice= []\n",
    "for i in range(len(ret)):\n",
    "    curr = template.copy()\n",
    "    p1, p2, p3, p4 = ret[i]\n",
    "    \n",
    "    curr[p1], curr[p2], curr[p3], curr[p4] = -1, 1, 1, -1\n",
    "    reslice.append(curr)   "
   ]
  },
  {
   "cell_type": "code",
   "execution_count": 12,
   "metadata": {},
   "outputs": [],
   "source": [
    "reslice16 =np.array(reslice)"
   ]
  },
  {
   "cell_type": "code",
   "execution_count": 13,
   "metadata": {},
   "outputs": [],
   "source": [
    "reslice16 = np.unique(reslice16, axis = 0)"
   ]
  },
  {
   "cell_type": "code",
   "execution_count": 14,
   "metadata": {},
   "outputs": [],
   "source": [
    "basis16 = reslice16[0:1]\n",
    "for i in range(1,len(reslice16)):\n",
    "    c = np.array([0 for _ in range(len(basis16))])\n",
    "    if linprog(c = c,A_eq=basis16.T,b_eq= reslice16[i],bounds=(0,None)).success:\n",
    "        continue\n",
    "    else:\n",
    "        basis16 = np.append(basis16,[reslice16[i]],axis = 0)  "
   ]
  },
  {
   "cell_type": "code",
   "execution_count": 15,
   "metadata": {},
   "outputs": [
    {
     "data": {
      "text/plain": [
       "(55, 55)"
      ]
     },
     "execution_count": 15,
     "metadata": {},
     "output_type": "execute_result"
    }
   ],
   "source": [
    "len(reslice16), len(basis16)"
   ]
  },
  {
   "cell_type": "code",
   "execution_count": null,
   "metadata": {},
   "outputs": [],
   "source": [
    "[[-1, 0, 0, 1, 1, 0, 0, -1, 0, 0], [-1, 0, 1, 0, 0, 1, 0, -1, 0, 0], [-1, 0, 1, 0, 1, 0, -1, 0, 0, 0], [-1, 1, 0, 0, 0, 0, 1, -1, 0, 0], [-1, 1, 0, 0, 1, -1, 0, 0, 0, 0], [-1, 1, 1, -1, 0, 0, 0, 0, 0, 0], [0, -1, 0, 1, 0, 1, 0, -1, 0, 0], [0, 0, -1, 1, 0, 0, 1, -1, 0, 0], [0, 0, 0, 0, -1, 1, 1, -1, 0, 0]]"
   ]
  },
  {
   "cell_type": "markdown",
   "metadata": {},
   "source": [
    "# restriction for (2,1), (2,1,1)"
   ]
  },
  {
   "cell_type": "code",
   "execution_count": 16,
   "metadata": {},
   "outputs": [],
   "source": [
    "restrictions21=[[-1,1,1,-1,0,0]]\n",
    "restrictions211=[[-1,1,1,-1,0,0,0,0]]"
   ]
  },
  {
   "cell_type": "markdown",
   "metadata": {},
   "source": [
    "# restriction for (2,2)"
   ]
  },
  {
   "cell_type": "code",
   "execution_count": 17,
   "metadata": {},
   "outputs": [],
   "source": [
    "restrictions22=[[-1,1,1,-1,0,0,0,0],[0,0,0,0,-1,1,1,-1]]"
   ]
  },
  {
   "cell_type": "markdown",
   "metadata": {},
   "source": [
    "# restriction for (3,1)"
   ]
  },
  {
   "cell_type": "code",
   "execution_count": 18,
   "metadata": {},
   "outputs": [],
   "source": [
    "restrictions31 = []\n",
    "for i in range(len(basis8)):\n",
    "    temp = list(basis8[i]) + [0,0]\n",
    "    restrictions31.append(temp)"
   ]
  },
  {
   "cell_type": "code",
   "execution_count": 23,
   "metadata": {},
   "outputs": [
    {
     "data": {
      "text/plain": [
       "9"
      ]
     },
     "execution_count": 23,
     "metadata": {},
     "output_type": "execute_result"
    }
   ],
   "source": [
    "len(restrictions31)"
   ]
  },
  {
   "cell_type": "markdown",
   "metadata": {},
   "source": [
    "# restriction for (3,2)"
   ]
  },
  {
   "cell_type": "code",
   "execution_count": 19,
   "metadata": {},
   "outputs": [],
   "source": [
    "restrictions32 = [[0,0,0,0,0,0,0,0,-1,1,1,-1]]\n",
    "for i in range(len(basis8)):\n",
    "    temp = list(basis8[i]) + [0,0,0,0]\n",
    "    restrictions32.append(temp)"
   ]
  },
  {
   "cell_type": "code",
   "execution_count": 20,
   "metadata": {},
   "outputs": [
    {
     "data": {
      "text/plain": [
       "10"
      ]
     },
     "execution_count": 20,
     "metadata": {},
     "output_type": "execute_result"
    }
   ],
   "source": [
    "restrictions32.__len__()"
   ]
  },
  {
   "cell_type": "markdown",
   "metadata": {},
   "source": [
    "# restriction for (4,1)"
   ]
  },
  {
   "cell_type": "code",
   "execution_count": 24,
   "metadata": {},
   "outputs": [],
   "source": [
    "restrictions41 = []\n",
    "for i in range(len(basis16)):\n",
    "    temp = list(basis16[i]) + [0,0]\n",
    "    restrictions41.append(temp)"
   ]
  },
  {
   "cell_type": "code",
   "execution_count": 25,
   "metadata": {},
   "outputs": [
    {
     "data": {
      "text/plain": [
       "55"
      ]
     },
     "execution_count": 25,
     "metadata": {},
     "output_type": "execute_result"
    }
   ],
   "source": [
    "restrictions41.__len__()"
   ]
  },
  {
   "cell_type": "markdown",
   "metadata": {},
   "source": [
    "# save to file"
   ]
  },
  {
   "cell_type": "code",
   "execution_count": 27,
   "metadata": {},
   "outputs": [],
   "source": [
    "import json"
   ]
  },
  {
   "cell_type": "code",
   "execution_count": 28,
   "metadata": {},
   "outputs": [],
   "source": [
    "with open(\"restrictions32.json\",'w') as file:\n",
    "    temp = restrictions32.copy()\n",
    "    for i in range(len(temp)):\n",
    "        temp[i]= [int(x) for x in temp[i]]\n",
    "    json.dump(temp,file)"
   ]
  },
  {
   "cell_type": "code",
   "execution_count": 29,
   "metadata": {},
   "outputs": [],
   "source": [
    "with open(\"restrictions41.json\",'w') as file:\n",
    "    temp = restrictions41.copy()\n",
    "    for i in range(len(temp)):\n",
    "        temp[i]= [int(x) for x in temp[i]]\n",
    "    json.dump(temp,file)"
   ]
  },
  {
   "cell_type": "code",
   "execution_count": 30,
   "metadata": {},
   "outputs": [
    {
     "name": "stdout",
     "output_type": "stream",
     "text": [
      "[0, 0, 0, 0, 0, 0, 0, 0, -1, 1, 1, -1] 10\n"
     ]
    }
   ],
   "source": [
    "with open('restrictions32.json','r') as file:\n",
    "    temp = json.load(file)\n",
    "print(temp[0],len(temp))"
   ]
  },
  {
   "cell_type": "code",
   "execution_count": 31,
   "metadata": {},
   "outputs": [
    {
     "name": "stdout",
     "output_type": "stream",
     "text": [
      "[-1, 0, 0, 0, 0, 0, 0, 1, 1, 0, 0, 0, 0, 0, 0, -1, 0, 0] 55\n"
     ]
    }
   ],
   "source": [
    "with open('restrictions41.json','r') as file:\n",
    "    temp = json.load(file)\n",
    "print(temp[0],len(temp))"
   ]
  },
  {
   "cell_type": "code",
   "execution_count": 32,
   "metadata": {},
   "outputs": [],
   "source": [
    "with open(\"restrictions21.json\",'w') as file:\n",
    "    temp = restrictions21.copy()\n",
    "    for i in range(len(temp)):\n",
    "        temp[i]= [int(x) for x in temp[i]]\n",
    "    json.dump(temp,file)"
   ]
  },
  {
   "cell_type": "code",
   "execution_count": 33,
   "metadata": {},
   "outputs": [],
   "source": [
    "with open(\"restrictions211.json\",'w') as file:\n",
    "    temp = restrictions211.copy()\n",
    "    for i in range(len(temp)):\n",
    "        temp[i]= [int(x) for x in temp[i]]\n",
    "    json.dump(temp,file)"
   ]
  },
  {
   "cell_type": "code",
   "execution_count": 34,
   "metadata": {},
   "outputs": [],
   "source": [
    "with open(\"restrictions22.json\",'w') as file:\n",
    "    temp = restrictions22.copy()\n",
    "    for i in range(len(temp)):\n",
    "        temp[i]= [int(x) for x in temp[i]]\n",
    "    json.dump(temp,file)"
   ]
  },
  {
   "cell_type": "code",
   "execution_count": 35,
   "metadata": {},
   "outputs": [],
   "source": [
    "with open(\"restrictions31.json\",'w') as file:\n",
    "    temp = restrictions31.copy()\n",
    "    for i in range(len(temp)):\n",
    "        temp[i]= [int(x) for x in temp[i]]\n",
    "    json.dump(temp,file)"
   ]
  },
  {
   "cell_type": "code",
   "execution_count": null,
   "metadata": {},
   "outputs": [],
   "source": []
  }
 ],
 "metadata": {
  "kernelspec": {
   "display_name": "Python (tensorflow)",
   "language": "python",
   "name": "myenv"
  },
  "language_info": {
   "codemirror_mode": {
    "name": "ipython",
    "version": 3
   },
   "file_extension": ".py",
   "mimetype": "text/x-python",
   "name": "python",
   "nbconvert_exporter": "python",
   "pygments_lexer": "ipython3",
   "version": "3.6.7"
  }
 },
 "nbformat": 4,
 "nbformat_minor": 2
}
