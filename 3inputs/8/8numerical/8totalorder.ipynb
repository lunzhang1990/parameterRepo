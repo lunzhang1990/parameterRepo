{
 "cells": [
  {
   "cell_type": "code",
   "execution_count": 1,
   "metadata": {},
   "outputs": [],
   "source": [
    "from helpers import run3\n",
    "import json"
   ]
  },
  {
   "cell_type": "code",
   "execution_count": 3,
   "metadata": {},
   "outputs": [
    {
     "name": "stdout",
     "output_type": "stream",
     "text": [
      "4 0\n",
      "2 0\n",
      "1 0\n",
      "predecessors done\n",
      "logics done\n"
     ]
    }
   ],
   "source": [
    "# with considering the symmetry between delta[i], i =1,2,3\n",
    "run3('2_2_2','8_symmetric.dat')"
   ]
  },
  {
   "cell_type": "code",
   "execution_count": 10,
   "metadata": {},
   "outputs": [],
   "source": [
    "# construct the files that is \n",
    "temp = []\n",
    "with open('8_symmetric.dat','r') as file:\n",
    "    line = file.readline()\n",
    "    while line:\n",
    "        line = eval(line)\n",
    "        temp.append(line)\n",
    "        line = file.readline()"
   ]
  },
  {
   "cell_type": "code",
   "execution_count": 13,
   "metadata": {},
   "outputs": [],
   "source": [
    "ret = []\n",
    "for perm in temp:\n",
    "    if perm.index(1) < perm.index(2) and perm.index(2) < perm.index(4):\n",
    "        ret.append(perm)"
   ]
  },
  {
   "cell_type": "code",
   "execution_count": 17,
   "metadata": {},
   "outputs": [],
   "source": [
    "with open('8_asymmetric.json','w') as file:\n",
    "    json.dump(ret,file)"
   ]
  }
 ],
 "metadata": {
  "kernelspec": {
   "display_name": "Python (tensorflow)",
   "language": "python",
   "name": "myenv"
  },
  "language_info": {
   "codemirror_mode": {
    "name": "ipython",
    "version": 3
   },
   "file_extension": ".py",
   "mimetype": "text/x-python",
   "name": "python",
   "nbconvert_exporter": "python",
   "pygments_lexer": "ipython3",
   "version": "3.6.7"
  }
 },
 "nbformat": 4,
 "nbformat_minor": 2
}
