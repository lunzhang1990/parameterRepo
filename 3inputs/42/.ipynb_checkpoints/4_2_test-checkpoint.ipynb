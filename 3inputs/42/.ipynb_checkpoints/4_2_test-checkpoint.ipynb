{
 "cells": [
  {
   "cell_type": "code",
   "execution_count": 1,
   "metadata": {},
   "outputs": [],
   "source": [
    "from helpers import *\n",
    "import pickle"
   ]
  },
  {
   "cell_type": "code",
   "execution_count": 6,
   "metadata": {},
   "outputs": [
    {
     "name": "stdout",
     "output_type": "stream",
     "text": [
      "6 4\n",
      "6 2\n",
      "4 0\n",
      "2 0\n",
      "1 0\n"
     ]
    },
    {
     "ename": "ValueError",
     "evalue": "The truth value of an array with more than one element is ambiguous. Use a.any() or a.all()",
     "output_type": "error",
     "traceback": [
      "\u001b[0;31m---------------------------------------------------------------------------\u001b[0m",
      "\u001b[0;31mValueError\u001b[0m                                Traceback (most recent call last)",
      "\u001b[0;32m<ipython-input-6-816c4b23cd1a>\u001b[0m in \u001b[0;36m<module>\u001b[0;34m\u001b[0m\n\u001b[1;32m     27\u001b[0m \u001b[0;34m\u001b[0m\u001b[0m\n\u001b[1;32m     28\u001b[0m \u001b[0;31m# predecessors\u001b[0m\u001b[0;34m\u001b[0m\u001b[0;34m\u001b[0m\u001b[0;34m\u001b[0m\u001b[0m\n\u001b[0;32m---> 29\u001b[0;31m \u001b[0mpredecessors\u001b[0m \u001b[0;34m=\u001b[0m \u001b[0mgenerate_predecessors\u001b[0m\u001b[0;34m(\u001b[0m\u001b[0moriginal_basis\u001b[0m\u001b[0;34m,\u001b[0m \u001b[0mextra_matrix\u001b[0m\u001b[0;34m,\u001b[0m \u001b[0mp_matrix\u001b[0m\u001b[0;34m,\u001b[0m \u001b[0mpermutations\u001b[0m\u001b[0;34m)\u001b[0m\u001b[0;34m\u001b[0m\u001b[0;34m\u001b[0m\u001b[0m\n\u001b[0m\u001b[1;32m     30\u001b[0m \u001b[0;34m\u001b[0m\u001b[0m\n\u001b[1;32m     31\u001b[0m \u001b[0mprint\u001b[0m\u001b[0;34m(\u001b[0m\u001b[0;34m'predecessors done'\u001b[0m\u001b[0;34m)\u001b[0m\u001b[0;34m\u001b[0m\u001b[0;34m\u001b[0m\u001b[0m\n",
      "\u001b[0;32m~/Desktop/parameterSpaceComputation/3inputs/42/helpers.py\u001b[0m in \u001b[0;36mgenerate_predecessors\u001b[0;34m(relations, extra_matrix, p_matrix, permutations)\u001b[0m\n\u001b[1;32m    116\u001b[0m \u001b[0;34m\u001b[0m\u001b[0m\n\u001b[1;32m    117\u001b[0m \u001b[0;32mdef\u001b[0m \u001b[0mgenerate_predecessors\u001b[0m\u001b[0;34m(\u001b[0m\u001b[0mrelations\u001b[0m\u001b[0;34m,\u001b[0m \u001b[0mextra_matrix\u001b[0m\u001b[0;34m,\u001b[0m \u001b[0mp_matrix\u001b[0m\u001b[0;34m,\u001b[0m \u001b[0mpermutations\u001b[0m\u001b[0;34m)\u001b[0m\u001b[0;34m:\u001b[0m\u001b[0;34m\u001b[0m\u001b[0;34m\u001b[0m\u001b[0m\n\u001b[0;32m--> 118\u001b[0;31m     \u001b[0mzero_logic\u001b[0m \u001b[0;34m=\u001b[0m \u001b[0mgenerate_relations\u001b[0m\u001b[0;34m(\u001b[0m\u001b[0mrelations\u001b[0m\u001b[0;34m,\u001b[0m \u001b[0mextra_matrix\u001b[0m\u001b[0;34m,\u001b[0m \u001b[0mp_matrix\u001b[0m\u001b[0;34m,\u001b[0m \u001b[0mpermutations\u001b[0m\u001b[0;34m)\u001b[0m\u001b[0;34m\u001b[0m\u001b[0;34m\u001b[0m\u001b[0m\n\u001b[0m\u001b[1;32m    119\u001b[0m     \u001b[0mret\u001b[0m \u001b[0;34m=\u001b[0m \u001b[0mdict\u001b[0m\u001b[0;34m(\u001b[0m\u001b[0;34m)\u001b[0m\u001b[0;34m\u001b[0m\u001b[0;34m\u001b[0m\u001b[0m\n\u001b[1;32m    120\u001b[0m     \u001b[0;32mfor\u001b[0m \u001b[0mi\u001b[0m\u001b[0;34m,\u001b[0m \u001b[0mj\u001b[0m \u001b[0;32min\u001b[0m \u001b[0mzero_logic\u001b[0m\u001b[0;34m:\u001b[0m\u001b[0;34m\u001b[0m\u001b[0;34m\u001b[0m\u001b[0m\n",
      "\u001b[0;32m~/Desktop/parameterSpaceComputation/3inputs/42/helpers.py\u001b[0m in \u001b[0;36mgenerate_relations\u001b[0;34m(relations, extra_matrix, p_matrix, permutations)\u001b[0m\n\u001b[1;32m     66\u001b[0m \u001b[0;34m\u001b[0m\u001b[0m\n\u001b[1;32m     67\u001b[0m     \u001b[0mbasis_matrix\u001b[0m \u001b[0;34m=\u001b[0m \u001b[0mnp\u001b[0m\u001b[0;34m.\u001b[0m\u001b[0mconcatenate\u001b[0m\u001b[0;34m(\u001b[0m\u001b[0ml_h\u001b[0m\u001b[0;34m,\u001b[0m\u001b[0maxis\u001b[0m \u001b[0;34m=\u001b[0m\u001b[0;36m0\u001b[0m\u001b[0;34m)\u001b[0m\u001b[0;34m\u001b[0m\u001b[0;34m\u001b[0m\u001b[0m\n\u001b[0;32m---> 68\u001b[0;31m     \u001b[0;32mif\u001b[0m \u001b[0mextra_matrix\u001b[0m\u001b[0;34m:\u001b[0m\u001b[0;34m\u001b[0m\u001b[0;34m\u001b[0m\u001b[0m\n\u001b[0m\u001b[1;32m     69\u001b[0m         \u001b[0mbasis_matrix\u001b[0m \u001b[0;34m=\u001b[0m \u001b[0mnp\u001b[0m\u001b[0;34m.\u001b[0m\u001b[0mconcatenate\u001b[0m\u001b[0;34m(\u001b[0m\u001b[0;34m[\u001b[0m\u001b[0mbasis_matrix\u001b[0m\u001b[0;34m,\u001b[0m \u001b[0mextra_matrix\u001b[0m\u001b[0;34m]\u001b[0m\u001b[0;34m,\u001b[0m\u001b[0maxis\u001b[0m \u001b[0;34m=\u001b[0m \u001b[0;36m0\u001b[0m\u001b[0;34m)\u001b[0m\u001b[0;34m\u001b[0m\u001b[0;34m\u001b[0m\u001b[0m\n\u001b[1;32m     70\u001b[0m     \u001b[0mA_eq\u001b[0m \u001b[0;34m=\u001b[0m \u001b[0mbasis_matrix\u001b[0m\u001b[0;34m.\u001b[0m\u001b[0mT\u001b[0m\u001b[0;34m\u001b[0m\u001b[0;34m\u001b[0m\u001b[0m\n",
      "\u001b[0;31mValueError\u001b[0m: The truth value of an array with more than one element is ambiguous. Use a.any() or a.all()"
     ]
    }
   ],
   "source": [
    "count = 0\n",
    "ret = set([])\n",
    "\n",
    "file_name = '4_2.txt'\n",
    "# set parameters\n",
    "m = [4,2]\n",
    "n = np.prod(m)\n",
    "\n",
    "# generate p_matrix\n",
    "p_matrix = []\n",
    "generate_p_matrix(m,p_matrix)\n",
    "p_matrix = np.array(p_matrix)\n",
    "\n",
    "# get original basis\n",
    "original_basis = set([])\n",
    "basis_matrix = generate_basis_matrix(m, p_matrix, original_basis)\n",
    "\n",
    "# get basis matrix not that useful\n",
    "extra_matrix = np.array([[-1,1,1,-1,0,0]])\n",
    "#extra_matrix = np.array([])\n",
    "\n",
    "# permutations\n",
    "permutations  = get_permutations(n)\n",
    "\n",
    "# get permutations we will loop in algoritm\n",
    "candidates = set(range(1,n))\n",
    "\n",
    "# predecessors\n",
    "predecessors = generate_predecessors(original_basis, extra_matrix, p_matrix, permutations)\n",
    "\n",
    "print('predecessors done')\n",
    "# first_order_logics\n",
    "logics = generate_logics(original_basis, extra_matrix, p_matrix, permutations)\n",
    "print('logics done')\n",
    "\n",
    "start = time.time()\n",
    "path= [0]\n",
    "trie_dfs(original_basis, set([]), p_matrix, extra_matrix, candidates, path, ret,permutations,predecessors,logics,file_name)\n",
    "time.time() - start\n",
    "\n",
    "with open(file_name,'a') as file:\n",
    "        file.write(str(time.time()-start)+'\\n')"
   ]
  },
  {
   "cell_type": "code",
   "execution_count": 5,
   "metadata": {},
   "outputs": [
    {
     "data": {
      "text/plain": [
       "28"
      ]
     },
     "execution_count": 5,
     "metadata": {},
     "output_type": "execute_result"
    }
   ],
   "source": [
    "len(ret)"
   ]
  },
  {
   "cell_type": "code",
   "execution_count": 14,
   "metadata": {},
   "outputs": [
    {
     "data": {
      "text/plain": [
       "[(0, 1, 2, 4, 3, 5, 6, 7),\n",
       " (0, 2, 1, 3, 4, 6, 5, 7),\n",
       " (0, 2, 4, 1, 6, 3, 5, 7),\n",
       " (0, 1, 2, 3, 4, 5, 6, 7),\n",
       " (0, 2, 4, 6, 1, 3, 5, 7),\n",
       " (0, 2, 1, 4, 3, 6, 5, 7),\n",
       " (0, 2, 1, 4, 6, 3, 5, 7),\n",
       " (0, 1, 2, 3, 4, 6, 5, 7),\n",
       " (0, 1, 2, 4, 3, 6, 5, 7),\n",
       " (0, 1, 2, 4, 6, 3, 5, 7)]"
      ]
     },
     "execution_count": 14,
     "metadata": {},
     "output_type": "execute_result"
    }
   ],
   "source": [
    "ords"
   ]
  },
  {
   "cell_type": "code",
   "execution_count": 69,
   "metadata": {},
   "outputs": [],
   "source": [
    "bigres = set()\n",
    "bigd = {}"
   ]
  },
  {
   "cell_type": "code",
   "execution_count": 81,
   "metadata": {},
   "outputs": [
    {
     "name": "stdout",
     "output_type": "stream",
     "text": [
      "167.36177492141724\n"
     ]
    }
   ],
   "source": [
    "import random\n",
    "start = time.time()\n",
    "random.seed(start)\n",
    "time_limit = 2000000\n",
    "r, d =  random_ordering([8,2],time_limit=time_limit)\n",
    "ords = list(map(lambda x: tuple(x),r))\n",
    "ords = list(set(ords))\n",
    "print(time.time() - start)"
   ]
  },
  {
   "cell_type": "markdown",
   "metadata": {},
   "source": [
    "with open('linear_4_2_2.dat', 'w') as file:\n",
    "    writer = csv.writer(file, delimiter=',')\n",
    "    for i in range(len(ords)):\n",
    "        writer.writerow(ords[i])"
   ]
  },
  {
   "cell_type": "code",
   "execution_count": 82,
   "metadata": {},
   "outputs": [],
   "source": [
    "res = []\n",
    "with open('4_2_2.txt','r') as file:\n",
    "    content = file.readline()\n",
    "    while content:\n",
    "        res.append(content[1:-2])\n",
    "        content = file.readline()\n",
    "\n",
    "res = list(map(lambda x: x.split(','),res))\n",
    "r = []\n",
    "for i in range(len(res)):\n",
    "    temp = tuple(map(lambda x: int(x), res[i]))\n",
    "    r.append(temp)\n"
   ]
  },
  {
   "cell_type": "code",
   "execution_count": 83,
   "metadata": {},
   "outputs": [],
   "source": [
    "res = set(r)\n",
    "real = set(ords)\n",
    "bigres = bigres.union(real)\n",
    "bigd.update(d)"
   ]
  },
  {
   "cell_type": "code",
   "execution_count": 95,
   "metadata": {},
   "outputs": [
    {
     "data": {
      "text/plain": [
       "514"
      ]
     },
     "execution_count": 95,
     "metadata": {},
     "output_type": "execute_result"
    }
   ],
   "source": [
    "len(bigd)  # realizable case ... "
   ]
  },
  {
   "cell_type": "code",
   "execution_count": 85,
   "metadata": {},
   "outputs": [
    {
     "data": {
      "text/plain": [
       "True"
      ]
     },
     "execution_count": 85,
     "metadata": {},
     "output_type": "execute_result"
    }
   ],
   "source": [
    "real.issubset(res)"
   ]
  },
  {
   "cell_type": "code",
   "execution_count": 86,
   "metadata": {},
   "outputs": [],
   "source": [
    "ret = res -bigres"
   ]
  },
  {
   "cell_type": "code",
   "execution_count": 87,
   "metadata": {},
   "outputs": [
    {
     "data": {
      "text/plain": [
       "5411"
      ]
     },
     "execution_count": 87,
     "metadata": {},
     "output_type": "execute_result"
    }
   ],
   "source": [
    "len(ret) "
   ]
  },
  {
   "cell_type": "code",
   "execution_count": 88,
   "metadata": {},
   "outputs": [
    {
     "data": {
      "text/plain": [
       "514"
      ]
     },
     "execution_count": 88,
     "metadata": {},
     "output_type": "execute_result"
    }
   ],
   "source": [
    "len(bigres)"
   ]
  },
  {
   "cell_type": "code",
   "execution_count": 89,
   "metadata": {},
   "outputs": [
    {
     "data": {
      "text/plain": [
       "514"
      ]
     },
     "execution_count": 89,
     "metadata": {},
     "output_type": "execute_result"
    }
   ],
   "source": [
    "len(real)"
   ]
  },
  {
   "cell_type": "code",
   "execution_count": 90,
   "metadata": {},
   "outputs": [],
   "source": [
    "with open('d_final'.format(time.time()),'wb') as file:\n",
    "    pickle.dump(bigd,file)"
   ]
  },
  {
   "cell_type": "code",
   "execution_count": 55,
   "metadata": {},
   "outputs": [],
   "source": [
    "transformations = [0,2,4,8,6,10,12,14,1,3,5,9,7,11,13,15]\n",
    "tf = {}\n",
    "for i in range(len(transformations)):\n",
    "    tf[transformations[i]] = i\n",
    "    \n",
    "#ret = list(bigres)\n",
    "ret = list(res - bigres)\n",
    "m_ret = []\n",
    "for i in range(len(ret)):\n",
    "    temp = list(map(lambda x: tf[x], ret[i]))\n",
    "    m_ret.append(temp)\n",
    "    \n",
    "pd.DataFrame(m_ret).to_csv(\"8_2_m.dat\",index = False, sep= ' ', header = False)"
   ]
  },
  {
   "cell_type": "code",
   "execution_count": 55,
   "metadata": {},
   "outputs": [
    {
     "data": {
      "text/plain": [
       "1336"
      ]
     },
     "execution_count": 55,
     "metadata": {},
     "output_type": "execute_result"
    }
   ],
   "source": [
    "len(bigres)"
   ]
  },
  {
   "cell_type": "code",
   "execution_count": 98,
   "metadata": {},
   "outputs": [
    {
     "data": {
      "text/plain": [
       "(0, 4, 1, 2, 8, 12, 5, 6, 3, 9, 10, 13, 14, 7, 11, 15)"
      ]
     },
     "execution_count": 98,
     "metadata": {},
     "output_type": "execute_result"
    }
   ],
   "source": [
    "ret[0]"
   ]
  },
  {
   "cell_type": "code",
   "execution_count": 103,
   "metadata": {},
   "outputs": [
    {
     "data": {
      "text/plain": [
       "[0, 1, 4, 8, 2, 3, 5, 9, 12, 6, 10, 7, 11, 13, 14, 15]"
      ]
     },
     "execution_count": 103,
     "metadata": {},
     "output_type": "execute_result"
    }
   ],
   "source": [
    "list(map(lambda x: tf[x], ret[0]))"
   ]
  },
  {
   "cell_type": "code",
   "execution_count": 61,
   "metadata": {},
   "outputs": [],
   "source": [
    "sd,sy,sz = d[ret[0]]"
   ]
  },
  {
   "cell_type": "code",
   "execution_count": 79,
   "metadata": {},
   "outputs": [],
   "source": [
    "delta = [math.exp(ss[0]), math.exp(ss[1])-math.exp(ss[0]),math.exp(ss[2])-math.exp(ss[0]),math.exp(ss[3])-math.exp(ss[0]) ]"
   ]
  },
  {
   "cell_type": "code",
   "execution_count": 71,
   "metadata": {},
   "outputs": [],
   "source": [
    "y = [math.exp(-0.706667480565572),math.exp( 0.253441564015969)-math.exp(0.706667480565572)]\n",
    "z = [math.exp(-0.31799870630454574), math.exp(0.5169571359108679)-math.exp(-0.31799870630454574)]"
   ]
  },
  {
   "cell_type": "code",
   "execution_count": 86,
   "metadata": {},
   "outputs": [
    {
     "data": {
      "text/plain": [
       "1.1102230246251565e-16"
      ]
     },
     "execution_count": 86,
     "metadata": {},
     "output_type": "execute_result"
    }
   ],
   "source": [
    "delta[3]-delta[1] - delta[2]"
   ]
  },
  {
   "cell_type": "code",
   "execution_count": 76,
   "metadata": {},
   "outputs": [],
   "source": [
    "ss = d[ret[0]][0]"
   ]
  },
  {
   "cell_type": "code",
   "execution_count": 83,
   "metadata": {},
   "outputs": [
    {
     "data": {
      "text/plain": [
       "2.220446049250313e-16"
      ]
     },
     "execution_count": 83,
     "metadata": {},
     "output_type": "execute_result"
    }
   ],
   "source": [
    "math.exp(ss[3])+math.exp(ss[0]) - math.exp(ss[1])- math.exp(ss[2])"
   ]
  },
  {
   "cell_type": "code",
   "execution_count": 87,
   "metadata": {},
   "outputs": [
    {
     "data": {
      "text/plain": [
       "[0.32353972145353305,\n",
       " 0.2827990229670624,\n",
       " 0.5620897793860736,\n",
       " 0.8448888023531361]"
      ]
     },
     "execution_count": 87,
     "metadata": {},
     "output_type": "execute_result"
    }
   ],
   "source": [
    "delta"
   ]
  },
  {
   "cell_type": "code",
   "execution_count": 95,
   "metadata": {},
   "outputs": [
    {
     "data": {
      "text/plain": [
       "0.43389364079189385"
      ]
     },
     "execution_count": 95,
     "metadata": {},
     "output_type": "execute_result"
    }
   ],
   "source": [
    "su1 = d[ret[0]][2]\n",
    "u1 = math.exp(su1[0])/math.exp(su1[1])\n",
    "u1"
   ]
  },
  {
   "cell_type": "code",
   "execution_count": 96,
   "metadata": {},
   "outputs": [
    {
     "data": {
      "text/plain": [
       "0.3828511358569393"
      ]
     },
     "execution_count": 96,
     "metadata": {},
     "output_type": "execute_result"
    }
   ],
   "source": [
    "su2 = d[ret[0]][1]\n",
    "u2 = math.exp(su2[0])/math.exp(su2[1])\n",
    "u2"
   ]
  },
  {
   "cell_type": "code",
   "execution_count": 89,
   "metadata": {},
   "outputs": [
    {
     "data": {
      "text/plain": [
       "[[-1.1284333860145905,\n",
       "  -0.5003164648938883,\n",
       "  -0.1214565864446927,\n",
       "  0.15565970394030126],\n",
       " [-0.706667480565572, 0.253441564015969],\n",
       " [-0.31799870630454574, 0.5169571359108679]]"
      ]
     },
     "execution_count": 89,
     "metadata": {},
     "output_type": "execute_result"
    }
   ],
   "source": [
    "d[ret[0]][1]"
   ]
  },
  {
   "cell_type": "code",
   "execution_count": 68,
   "metadata": {},
   "outputs": [],
   "source": [
    "temp = []\n",
    "for i in range(16):\n",
    "    p = i\n",
    "    zi = p%2\n",
    "    yi = int(math.floor(p/2))%2\n",
    "    di = int(math.floor(p/4))\n",
    "    print\n",
    "    temp.append(delta[di]*y[yi]*z[zi])"
   ]
  },
  {
   "cell_type": "code",
   "execution_count": 63,
   "metadata": {},
   "outputs": [],
   "source": [
    "stemp = []\n",
    "for i in range(16):\n",
    "    p = i\n",
    "    zi = p%2\n",
    "    yi = int(math.floor(p/2))%2\n",
    "    di = int(math.floor(p/4))\n",
    "    print\n",
    "    stemp.append(sd[di]+sy[yi]+sz[zi])"
   ]
  },
  {
   "cell_type": "code",
   "execution_count": 69,
   "metadata": {},
   "outputs": [
    {
     "data": {
      "text/plain": [
       "array([ 0,  4,  1,  2,  8, 12,  5,  6,  3,  9, 10, 13, 14,  7, 11, 15])"
      ]
     },
     "execution_count": 69,
     "metadata": {},
     "output_type": "execute_result"
    }
   ],
   "source": [
    "np.argsort(temp)"
   ]
  },
  {
   "cell_type": "code",
   "execution_count": 64,
   "metadata": {},
   "outputs": [
    {
     "data": {
      "text/plain": [
       "array([ 0,  4,  1,  2,  8, 12,  5,  6,  3,  9, 10, 13, 14,  7, 11, 15])"
      ]
     },
     "execution_count": 64,
     "metadata": {},
     "output_type": "execute_result"
    }
   ],
   "source": [
    "np.argsort(stemp)"
   ]
  },
  {
   "cell_type": "code",
   "execution_count": 65,
   "metadata": {},
   "outputs": [
    {
     "data": {
      "text/plain": [
       "(0, 4, 1, 2, 8, 12, 5, 6, 3, 9, 10, 13, 14, 7, 11, 15)"
      ]
     },
     "execution_count": 65,
     "metadata": {},
     "output_type": "execute_result"
    }
   ],
   "source": [
    "ret[0]"
   ]
  },
  {
   "cell_type": "code",
   "execution_count": 23,
   "metadata": {},
   "outputs": [
    {
     "data": {
      "text/plain": [
       "[[-1.1284333860145905,\n",
       "  -0.5003164648938883,\n",
       "  -0.1214565864446927,\n",
       "  0.15565970394030126],\n",
       " [-0.706667480565572, 0.253441564015969],\n",
       " [-0.31799870630454574, 0.5169571359108679]]"
      ]
     },
     "execution_count": 23,
     "metadata": {},
     "output_type": "execute_result"
    }
   ],
   "source": [
    "d[ret[0]]"
   ]
  },
  {
   "cell_type": "code",
   "execution_count": 29,
   "metadata": {},
   "outputs": [],
   "source": [
    "temp = list(map(lambda x: math.exp(x), d[ret[0]][0]))"
   ]
  },
  {
   "cell_type": "code",
   "execution_count": 30,
   "metadata": {},
   "outputs": [
    {
     "data": {
      "text/plain": [
       "2.220446049250313e-16"
      ]
     },
     "execution_count": 30,
     "metadata": {},
     "output_type": "execute_result"
    }
   ],
   "source": [
    "temp[0]+temp[-1] - temp[1]-temp[2]"
   ]
  },
  {
   "cell_type": "code",
   "execution_count": 27,
   "metadata": {},
   "outputs": [],
   "source": [
    "import math"
   ]
  },
  {
   "cell_type": "code",
   "execution_count": 109,
   "metadata": {},
   "outputs": [
    {
     "data": {
      "text/plain": [
       "672"
      ]
     },
     "execution_count": 109,
     "metadata": {},
     "output_type": "execute_result"
    }
   ],
   "source": [
    "len(res)"
   ]
  },
  {
   "cell_type": "code",
   "execution_count": 110,
   "metadata": {},
   "outputs": [
    {
     "data": {
      "text/plain": [
       "668"
      ]
     },
     "execution_count": 110,
     "metadata": {},
     "output_type": "execute_result"
    }
   ],
   "source": [
    "len(real)"
   ]
  },
  {
   "cell_type": "code",
   "execution_count": 113,
   "metadata": {},
   "outputs": [],
   "source": [
    "transformations = np.argsort([0,4,8,12,1,5,9,13,2,6,10,14,3,7,11,15])\n",
    "tf = {}\n",
    "for i in range(len(transformations)):\n",
    "    tf[transformations[i]] = i\n",
    "    \n",
    "ret = list(res - real)\n",
    "m_ret = []\n",
    "for i in range(len(ret)):\n",
    "    temp = list(map(lambda x: tf[x], ret[i]))\n",
    "    m_ret.append(temp)\n",
    "    \n",
    "pd.DataFrame(m_ret).to_csv(\"4_2_2_m.dat\",index = False, sep= ' ', header = False)"
   ]
  },
  {
   "cell_type": "code",
   "execution_count": 146,
   "metadata": {},
   "outputs": [],
   "source": [
    "ret = list(ret)"
   ]
  },
  {
   "cell_type": "code",
   "execution_count": 147,
   "metadata": {},
   "outputs": [
    {
     "name": "stdout",
     "output_type": "stream",
     "text": [
      "[0, 8, 1, 4, 9, 12, 2, 10, 5, 13, 3, 6, 11, 14, 7, 15]\n",
      "[0, 4, 8, 1, 12, 2, 5, 6, 9, 10, 13, 3, 14, 7, 11, 15]\n"
     ]
    }
   ],
   "source": [
    "for i in range(len(ret)):\n",
    "    temp = list(map(lambda x: tf[x], ret[i]))\n",
    "    print(temp)"
   ]
  },
  {
   "cell_type": "markdown",
   "metadata": {},
   "source": [
    "# 10 aborted"
   ]
  },
  {
   "cell_type": "code",
   "execution_count": 134,
   "metadata": {},
   "outputs": [],
   "source": [
    "all_candidates = []\n",
    "false_cad = []\n",
    "with open('real_rest_300.dat','r') as file:\n",
    "    content = file.readline()\n",
    "    while content:\n",
    "        if 'False' in content:\n",
    "            false_cad.append(content)\n",
    "        all_candidates.append(content)\n",
    "        content = file.readline()"
   ]
  },
  {
   "cell_type": "code",
   "execution_count": 135,
   "metadata": {},
   "outputs": [],
   "source": [
    "all_candidates = list(map(lambda x: int(x.split(',')[0][1:]), all_candidates))\n",
    "false_cad = list(map(lambda x: int(x.split(',')[0][1:]), false_cad))\n",
    "candidates = list(set(all_candidates) - set(false_cad))\n",
    "candidates = sorted(candidates)"
   ]
  },
  {
   "cell_type": "code",
   "execution_count": 150,
   "metadata": {},
   "outputs": [],
   "source": [
    "t_candidates = set()\n",
    "for c in candidates:\n",
    "    t_candidates.add(tuple(m_ret[c-1]))\n",
    "    "
   ]
  },
  {
   "cell_type": "code",
   "execution_count": 151,
   "metadata": {},
   "outputs": [
    {
     "data": {
      "text/plain": [
       "269"
      ]
     },
     "execution_count": 151,
     "metadata": {},
     "output_type": "execute_result"
    }
   ],
   "source": [
    "len(t_candidates)"
   ]
  },
  {
   "cell_type": "code",
   "execution_count": 152,
   "metadata": {},
   "outputs": [],
   "source": [
    "t_candidates = sorted(list(t_candidates))"
   ]
  },
  {
   "cell_type": "code",
   "execution_count": 153,
   "metadata": {},
   "outputs": [
    {
     "data": {
      "text/plain": [
       "[(0, 1, 2, 3, 8, 5, 6, 9, 4, 10, 7, 11, 13, 14, 12, 15),\n",
       " (0, 1, 2, 3, 8, 5, 6, 9, 4, 10, 11, 7, 13, 14, 12, 15),\n",
       " (0, 1, 2, 3, 8, 5, 6, 9, 10, 4, 11, 7, 13, 14, 12, 15),\n",
       " (0, 1, 2, 3, 8, 5, 9, 6, 10, 4, 11, 7, 13, 14, 12, 15),\n",
       " (0, 1, 2, 3, 8, 6, 4, 9, 5, 10, 7, 11, 14, 12, 13, 15),\n",
       " (0, 1, 2, 3, 8, 6, 4, 9, 5, 10, 11, 7, 14, 12, 13, 15),\n",
       " (0, 1, 2, 3, 8, 6, 9, 4, 5, 10, 11, 7, 14, 12, 13, 15),\n",
       " (0, 1, 2, 3, 8, 9, 4, 10, 5, 11, 6, 7, 12, 13, 14, 15),\n",
       " (0, 1, 2, 8, 3, 4, 9, 5, 10, 11, 12, 6, 7, 13, 14, 15),\n",
       " (0, 1, 2, 8, 3, 4, 9, 10, 5, 11, 12, 6, 7, 13, 14, 15),\n",
       " (0, 1, 2, 8, 3, 4, 9, 10, 11, 5, 6, 12, 7, 13, 14, 15),\n",
       " (0, 1, 2, 8, 3, 4, 9, 10, 11, 5, 12, 6, 7, 13, 14, 15),\n",
       " (0, 1, 2, 8, 3, 5, 6, 9, 10, 4, 11, 7, 13, 14, 12, 15),\n",
       " (0, 1, 2, 8, 3, 5, 9, 6, 10, 4, 11, 7, 13, 14, 12, 15),\n",
       " (0, 1, 2, 8, 3, 9, 4, 10, 5, 6, 11, 12, 7, 13, 14, 15),\n",
       " (0, 1, 2, 8, 3, 9, 4, 10, 5, 11, 6, 12, 7, 13, 14, 15),\n",
       " (0, 1, 2, 8, 3, 9, 4, 10, 5, 11, 12, 6, 7, 13, 14, 15),\n",
       " (0, 1, 2, 8, 3, 9, 4, 10, 11, 5, 6, 12, 7, 13, 14, 15),\n",
       " (0, 1, 2, 8, 3, 9, 5, 6, 10, 4, 11, 7, 13, 14, 12, 15),\n",
       " (0, 1, 2, 8, 3, 9, 5, 10, 6, 4, 11, 7, 13, 14, 12, 15),\n",
       " (0, 1, 2, 8, 3, 9, 10, 4, 5, 11, 6, 12, 7, 13, 14, 15),\n",
       " (0, 1, 2, 8, 3, 9, 10, 4, 5, 11, 12, 6, 7, 13, 14, 15),\n",
       " (0, 1, 2, 8, 3, 9, 10, 4, 11, 5, 6, 12, 7, 13, 14, 15),\n",
       " (0, 1, 2, 8, 3, 9, 10, 4, 11, 5, 12, 6, 7, 13, 14, 15),\n",
       " (0, 1, 2, 8, 4, 3, 5, 9, 6, 10, 12, 11, 7, 13, 14, 15),\n",
       " (0, 1, 2, 8, 4, 3, 9, 5, 6, 10, 12, 11, 7, 13, 14, 15),\n",
       " (0, 1, 2, 8, 4, 3, 9, 5, 10, 12, 6, 11, 7, 13, 14, 15),\n",
       " (0, 1, 2, 8, 4, 3, 9, 10, 5, 12, 6, 11, 7, 13, 14, 15),\n",
       " (0, 1, 2, 8, 4, 3, 9, 10, 12, 5, 6, 11, 7, 13, 14, 15),\n",
       " (0, 1, 2, 8, 9, 3, 4, 5, 10, 11, 6, 12, 7, 13, 14, 15),\n",
       " (0, 1, 2, 8, 9, 3, 4, 10, 5, 6, 11, 7, 12, 13, 14, 15),\n",
       " (0, 1, 2, 8, 9, 3, 4, 10, 5, 11, 6, 12, 7, 13, 14, 15),\n",
       " (0, 1, 2, 8, 9, 3, 4, 10, 5, 11, 12, 6, 7, 13, 14, 15),\n",
       " (0, 1, 2, 8, 9, 3, 4, 10, 11, 5, 6, 12, 7, 13, 14, 15),\n",
       " (0, 1, 2, 8, 9, 3, 5, 10, 6, 4, 11, 7, 13, 14, 12, 15),\n",
       " (0, 1, 2, 8, 9, 3, 10, 4, 5, 11, 12, 6, 7, 13, 14, 15),\n",
       " (0, 1, 2, 8, 9, 3, 10, 4, 11, 5, 6, 12, 7, 13, 14, 15),\n",
       " (0, 1, 2, 8, 9, 3, 10, 4, 11, 5, 12, 6, 7, 13, 14, 15),\n",
       " (0, 1, 2, 8, 9, 3, 10, 4, 11, 12, 5, 6, 7, 13, 14, 15),\n",
       " (0, 1, 2, 8, 9, 3, 10, 5, 6, 4, 11, 7, 13, 14, 12, 15),\n",
       " (0, 1, 2, 8, 9, 4, 3, 10, 5, 12, 6, 7, 11, 13, 14, 15),\n",
       " (0, 1, 2, 8, 9, 10, 3, 4, 11, 5, 6, 12, 7, 13, 14, 15),\n",
       " (0, 1, 8, 2, 3, 4, 5, 9, 6, 10, 11, 12, 7, 13, 14, 15),\n",
       " (0, 1, 8, 2, 3, 4, 5, 9, 10, 11, 6, 12, 7, 13, 14, 15),\n",
       " (0, 1, 8, 2, 3, 4, 5, 9, 10, 11, 6, 12, 13, 7, 14, 15),\n",
       " (0, 1, 8, 2, 3, 4, 5, 9, 10, 11, 12, 6, 13, 7, 14, 15),\n",
       " (0, 1, 8, 2, 3, 4, 9, 5, 10, 11, 6, 12, 13, 7, 14, 15),\n",
       " (0, 1, 8, 2, 3, 4, 9, 5, 10, 11, 12, 6, 13, 7, 14, 15),\n",
       " (0, 1, 8, 2, 3, 4, 9, 10, 5, 11, 6, 12, 13, 7, 14, 15),\n",
       " (0, 1, 8, 2, 3, 5, 9, 6, 10, 4, 11, 13, 7, 14, 12, 15),\n",
       " (0, 1, 8, 2, 3, 5, 9, 6, 10, 11, 4, 13, 7, 14, 12, 15),\n",
       " (0, 1, 8, 2, 3, 5, 9, 10, 6, 11, 4, 13, 7, 14, 12, 15),\n",
       " (0, 1, 8, 2, 3, 5, 9, 10, 11, 4, 6, 13, 7, 12, 14, 15),\n",
       " (0, 1, 8, 2, 3, 5, 9, 10, 11, 4, 13, 6, 7, 12, 14, 15),\n",
       " (0, 1, 8, 2, 3, 5, 9, 10, 11, 6, 4, 13, 7, 14, 12, 15),\n",
       " (0, 1, 8, 2, 3, 5, 9, 10, 11, 6, 13, 4, 7, 14, 12, 15),\n",
       " (0, 1, 8, 2, 3, 6, 9, 4, 10, 5, 11, 7, 14, 12, 13, 15),\n",
       " (0, 1, 8, 2, 3, 9, 4, 5, 10, 11, 12, 6, 13, 7, 14, 15),\n",
       " (0, 1, 8, 2, 3, 9, 4, 10, 5, 11, 12, 6, 13, 7, 14, 15),\n",
       " (0, 1, 8, 2, 3, 9, 4, 10, 11, 5, 12, 6, 13, 7, 14, 15),\n",
       " (0, 1, 8, 2, 3, 9, 5, 6, 10, 4, 11, 7, 13, 14, 12, 15),\n",
       " (0, 1, 8, 2, 3, 9, 5, 10, 4, 11, 13, 6, 12, 7, 14, 15),\n",
       " (0, 1, 8, 2, 3, 9, 5, 10, 6, 11, 4, 13, 7, 14, 12, 15),\n",
       " (0, 1, 8, 2, 3, 9, 5, 10, 6, 11, 13, 4, 7, 14, 12, 15),\n",
       " (0, 1, 8, 2, 3, 9, 5, 10, 11, 4, 13, 6, 12, 7, 14, 15),\n",
       " (0, 1, 8, 2, 3, 9, 5, 10, 11, 6, 4, 13, 7, 14, 12, 15),\n",
       " (0, 1, 8, 2, 3, 9, 10, 4, 5, 11, 12, 6, 13, 7, 14, 15),\n",
       " (0, 1, 8, 2, 3, 9, 10, 4, 11, 5, 6, 12, 7, 13, 14, 15),\n",
       " (0, 1, 8, 2, 3, 9, 10, 4, 11, 5, 12, 6, 13, 7, 14, 15),\n",
       " (0, 1, 8, 2, 3, 9, 10, 5, 6, 11, 4, 13, 7, 14, 12, 15),\n",
       " (0, 1, 8, 2, 3, 9, 10, 5, 6, 11, 13, 4, 7, 14, 12, 15),\n",
       " (0, 1, 8, 2, 3, 9, 10, 5, 11, 4, 6, 13, 7, 12, 14, 15),\n",
       " (0, 1, 8, 2, 3, 9, 10, 5, 11, 4, 13, 6, 7, 12, 14, 15),\n",
       " (0, 1, 8, 2, 3, 9, 10, 5, 11, 4, 13, 6, 12, 7, 14, 15),\n",
       " (0, 1, 8, 2, 3, 9, 10, 11, 4, 5, 12, 6, 13, 7, 14, 15),\n",
       " (0, 1, 8, 2, 4, 3, 5, 9, 6, 10, 12, 7, 11, 13, 14, 15),\n",
       " (0, 1, 8, 2, 4, 3, 5, 9, 6, 10, 12, 11, 7, 13, 14, 15),\n",
       " (0, 1, 8, 2, 4, 3, 5, 9, 6, 10, 12, 11, 13, 7, 14, 15),\n",
       " (0, 1, 8, 2, 4, 3, 5, 9, 10, 12, 6, 11, 7, 13, 14, 15),\n",
       " (0, 1, 8, 2, 4, 3, 5, 9, 10, 12, 6, 11, 13, 7, 14, 15),\n",
       " (0, 1, 8, 2, 4, 3, 5, 9, 10, 12, 11, 6, 13, 7, 14, 15),\n",
       " (0, 1, 8, 2, 4, 3, 9, 5, 10, 6, 12, 11, 13, 7, 14, 15),\n",
       " (0, 1, 8, 2, 4, 3, 9, 5, 10, 12, 6, 11, 13, 7, 14, 15),\n",
       " (0, 1, 8, 2, 4, 3, 9, 5, 10, 12, 11, 6, 13, 7, 14, 15),\n",
       " (0, 1, 8, 2, 4, 3, 9, 10, 5, 6, 12, 11, 13, 7, 14, 15),\n",
       " (0, 1, 8, 2, 4, 3, 9, 10, 5, 12, 6, 11, 7, 13, 14, 15),\n",
       " (0, 1, 8, 2, 4, 3, 9, 10, 5, 12, 6, 11, 13, 7, 14, 15),\n",
       " (0, 1, 8, 2, 4, 3, 9, 10, 5, 12, 11, 6, 13, 7, 14, 15),\n",
       " (0, 1, 8, 2, 4, 3, 9, 10, 5, 12, 11, 13, 6, 7, 14, 15),\n",
       " (0, 1, 8, 2, 4, 9, 3, 5, 10, 6, 12, 11, 13, 7, 14, 15),\n",
       " (0, 1, 8, 2, 4, 9, 3, 5, 10, 12, 11, 6, 13, 7, 14, 15),\n",
       " (0, 1, 8, 2, 4, 9, 3, 10, 5, 6, 12, 11, 13, 7, 14, 15),\n",
       " (0, 1, 8, 2, 4, 9, 3, 10, 5, 12, 11, 13, 6, 7, 14, 15),\n",
       " (0, 1, 8, 2, 9, 3, 4, 5, 10, 6, 11, 12, 13, 7, 14, 15),\n",
       " (0, 1, 8, 2, 9, 3, 4, 5, 10, 11, 12, 13, 6, 7, 14, 15),\n",
       " (0, 1, 8, 2, 9, 3, 4, 10, 5, 6, 11, 12, 13, 7, 14, 15),\n",
       " (0, 1, 8, 2, 9, 3, 4, 10, 11, 5, 6, 12, 7, 13, 14, 15),\n",
       " (0, 1, 8, 2, 9, 3, 4, 10, 11, 5, 6, 12, 13, 7, 14, 15),\n",
       " (0, 1, 8, 2, 9, 3, 4, 10, 11, 5, 12, 6, 7, 13, 14, 15),\n",
       " (0, 1, 8, 2, 9, 3, 4, 10, 11, 5, 12, 6, 13, 7, 14, 15),\n",
       " (0, 1, 8, 2, 9, 3, 4, 10, 11, 12, 5, 6, 13, 7, 14, 15),\n",
       " (0, 1, 8, 2, 9, 3, 5, 6, 10, 4, 11, 7, 13, 14, 12, 15),\n",
       " (0, 1, 8, 2, 9, 3, 5, 6, 10, 4, 11, 13, 7, 14, 12, 15),\n",
       " (0, 1, 8, 2, 9, 3, 5, 10, 6, 4, 11, 7, 13, 14, 12, 15),\n",
       " (0, 1, 8, 2, 9, 3, 5, 10, 6, 4, 11, 13, 7, 14, 12, 15),\n",
       " (0, 1, 8, 2, 9, 3, 5, 10, 6, 11, 4, 13, 7, 14, 12, 15),\n",
       " (0, 1, 8, 2, 9, 3, 5, 10, 6, 11, 13, 4, 7, 14, 12, 15),\n",
       " (0, 1, 8, 2, 9, 3, 5, 10, 11, 4, 13, 6, 12, 7, 14, 15),\n",
       " (0, 1, 8, 2, 9, 3, 5, 10, 11, 6, 4, 13, 7, 14, 12, 15),\n",
       " (0, 1, 8, 2, 9, 3, 5, 10, 11, 6, 13, 4, 7, 14, 12, 15),\n",
       " (0, 1, 8, 2, 9, 3, 10, 4, 5, 6, 11, 7, 12, 13, 14, 15),\n",
       " (0, 1, 8, 2, 9, 3, 10, 4, 11, 5, 6, 12, 7, 13, 14, 15),\n",
       " (0, 1, 8, 2, 9, 3, 10, 4, 11, 5, 12, 6, 13, 7, 14, 15),\n",
       " (0, 1, 8, 2, 9, 3, 10, 4, 11, 12, 5, 6, 13, 7, 14, 15),\n",
       " (0, 1, 8, 2, 9, 3, 10, 5, 6, 4, 11, 7, 13, 14, 12, 15),\n",
       " (0, 1, 8, 2, 9, 3, 10, 5, 6, 4, 11, 13, 7, 14, 12, 15),\n",
       " (0, 1, 8, 2, 9, 3, 10, 5, 6, 11, 4, 13, 7, 14, 12, 15),\n",
       " (0, 1, 8, 2, 9, 3, 10, 5, 11, 4, 6, 13, 7, 12, 14, 15),\n",
       " (0, 1, 8, 2, 9, 3, 10, 5, 11, 4, 13, 6, 7, 12, 14, 15),\n",
       " (0, 1, 8, 2, 9, 3, 10, 5, 11, 4, 13, 6, 12, 7, 14, 15),\n",
       " (0, 1, 8, 2, 9, 3, 10, 5, 11, 6, 4, 13, 7, 14, 12, 15),\n",
       " (0, 1, 8, 2, 9, 3, 10, 5, 11, 6, 13, 4, 7, 14, 12, 15),\n",
       " (0, 1, 8, 2, 9, 3, 10, 5, 11, 13, 4, 6, 7, 12, 14, 15),\n",
       " (0, 1, 8, 2, 9, 3, 10, 11, 4, 5, 6, 12, 7, 13, 14, 15),\n",
       " (0, 1, 8, 2, 9, 3, 10, 11, 4, 5, 6, 12, 13, 7, 14, 15),\n",
       " (0, 1, 8, 2, 9, 3, 10, 11, 4, 5, 12, 6, 7, 13, 14, 15),\n",
       " (0, 1, 8, 2, 9, 3, 10, 11, 4, 5, 12, 6, 13, 7, 14, 15),\n",
       " (0, 1, 8, 2, 9, 3, 10, 11, 4, 5, 12, 13, 6, 7, 14, 15),\n",
       " (0, 1, 8, 2, 9, 3, 10, 11, 4, 12, 5, 6, 13, 7, 14, 15),\n",
       " (0, 1, 8, 2, 9, 4, 3, 10, 5, 12, 6, 11, 13, 7, 14, 15),\n",
       " (0, 1, 8, 2, 9, 10, 3, 4, 5, 11, 6, 12, 7, 13, 14, 15),\n",
       " (0, 1, 8, 2, 9, 10, 3, 4, 5, 11, 12, 6, 7, 13, 14, 15),\n",
       " (0, 1, 8, 2, 9, 10, 3, 4, 5, 11, 12, 6, 13, 7, 14, 15),\n",
       " (0, 1, 8, 2, 9, 10, 3, 4, 11, 5, 6, 12, 7, 13, 14, 15),\n",
       " (0, 1, 8, 2, 9, 10, 3, 4, 11, 5, 12, 6, 13, 7, 14, 15),\n",
       " (0, 1, 8, 2, 9, 10, 3, 4, 11, 5, 12, 13, 6, 7, 14, 15),\n",
       " (0, 1, 8, 2, 9, 10, 3, 4, 11, 12, 5, 6, 13, 7, 14, 15),\n",
       " (0, 1, 8, 2, 9, 10, 3, 5, 6, 11, 4, 13, 7, 14, 12, 15),\n",
       " (0, 1, 8, 2, 9, 10, 3, 5, 11, 4, 13, 6, 12, 7, 14, 15),\n",
       " (0, 1, 8, 2, 9, 10, 3, 5, 11, 6, 4, 13, 7, 14, 12, 15),\n",
       " (0, 1, 8, 2, 9, 10, 4, 3, 12, 5, 11, 6, 13, 7, 14, 15),\n",
       " (0, 1, 8, 9, 2, 3, 4, 10, 5, 6, 11, 12, 7, 13, 14, 15),\n",
       " (0, 1, 8, 9, 2, 3, 4, 10, 5, 11, 6, 12, 7, 13, 14, 15),\n",
       " (0, 1, 8, 9, 2, 3, 4, 10, 11, 5, 12, 6, 13, 7, 14, 15),\n",
       " (0, 1, 8, 9, 2, 3, 5, 6, 10, 11, 4, 13, 7, 14, 12, 15),\n",
       " (0, 1, 8, 9, 2, 3, 5, 10, 6, 4, 11, 13, 7, 14, 12, 15),\n",
       " (0, 1, 8, 9, 2, 3, 5, 10, 6, 11, 4, 13, 7, 14, 12, 15),\n",
       " (0, 1, 8, 9, 2, 3, 5, 10, 11, 4, 13, 6, 12, 7, 14, 15),\n",
       " (0, 1, 8, 9, 2, 3, 5, 10, 11, 6, 13, 4, 7, 14, 12, 15),\n",
       " (0, 1, 8, 9, 2, 3, 5, 10, 11, 13, 4, 6, 12, 7, 14, 15),\n",
       " (0, 1, 8, 9, 2, 3, 10, 4, 5, 11, 6, 12, 7, 13, 14, 15),\n",
       " (0, 1, 8, 9, 2, 3, 10, 4, 5, 11, 12, 6, 13, 7, 14, 15),\n",
       " (0, 1, 8, 9, 2, 3, 10, 4, 11, 5, 6, 12, 7, 13, 14, 15),\n",
       " (0, 1, 8, 9, 2, 3, 10, 4, 11, 5, 12, 6, 13, 7, 14, 15),\n",
       " (0, 1, 8, 9, 2, 3, 10, 4, 11, 12, 5, 6, 13, 7, 14, 15),\n",
       " (0, 1, 8, 9, 2, 3, 10, 5, 6, 11, 4, 13, 7, 14, 12, 15),\n",
       " (0, 1, 8, 9, 2, 3, 10, 5, 6, 11, 13, 4, 7, 14, 12, 15),\n",
       " (0, 1, 8, 9, 2, 3, 10, 5, 11, 4, 13, 6, 7, 12, 14, 15),\n",
       " (0, 1, 8, 9, 2, 3, 10, 5, 11, 4, 13, 6, 12, 7, 14, 15),\n",
       " (0, 1, 8, 9, 2, 3, 10, 5, 11, 6, 13, 4, 7, 14, 12, 15),\n",
       " (0, 1, 8, 9, 2, 3, 10, 5, 11, 13, 4, 6, 12, 7, 14, 15),\n",
       " (0, 1, 8, 9, 2, 3, 10, 11, 4, 5, 12, 6, 13, 7, 14, 15),\n",
       " (0, 1, 8, 9, 2, 4, 3, 5, 10, 6, 12, 11, 13, 7, 14, 15),\n",
       " (0, 1, 8, 9, 2, 4, 3, 5, 10, 12, 6, 11, 13, 7, 14, 15),\n",
       " (0, 1, 8, 9, 2, 4, 3, 10, 5, 6, 12, 7, 11, 13, 14, 15),\n",
       " (0, 1, 8, 9, 2, 4, 3, 10, 5, 6, 12, 11, 7, 13, 14, 15),\n",
       " (0, 1, 8, 9, 2, 4, 3, 10, 5, 12, 6, 11, 13, 7, 14, 15),\n",
       " (0, 1, 8, 9, 2, 4, 3, 10, 12, 5, 6, 11, 7, 13, 14, 15),\n",
       " (0, 1, 8, 9, 2, 4, 3, 10, 12, 5, 6, 11, 13, 7, 14, 15),\n",
       " (0, 1, 8, 9, 2, 4, 3, 10, 12, 5, 11, 6, 13, 7, 14, 15),\n",
       " (0, 1, 8, 9, 2, 4, 10, 3, 12, 5, 6, 11, 13, 7, 14, 15),\n",
       " (0, 1, 8, 9, 2, 10, 3, 4, 5, 11, 6, 12, 7, 13, 14, 15),\n",
       " (0, 1, 8, 9, 2, 10, 3, 4, 5, 11, 6, 12, 13, 7, 14, 15),\n",
       " (0, 1, 8, 9, 2, 10, 3, 4, 5, 11, 12, 6, 7, 13, 14, 15),\n",
       " (0, 1, 8, 9, 2, 10, 3, 4, 11, 5, 12, 6, 13, 7, 14, 15),\n",
       " (0, 1, 8, 9, 2, 10, 4, 12, 3, 5, 11, 6, 13, 7, 14, 15),\n",
       " (0, 8, 1, 2, 3, 4, 9, 5, 10, 6, 11, 12, 13, 14, 7, 15),\n",
       " (0, 8, 1, 2, 3, 4, 9, 6, 10, 11, 12, 14, 5, 13, 7, 15),\n",
       " (0, 8, 1, 2, 3, 4, 9, 10, 5, 11, 6, 12, 7, 13, 14, 15),\n",
       " (0, 8, 1, 2, 3, 4, 9, 10, 5, 11, 12, 6, 13, 14, 7, 15),\n",
       " (0, 8, 1, 2, 3, 4, 9, 10, 6, 11, 5, 12, 14, 7, 13, 15),\n",
       " (0, 8, 1, 2, 3, 4, 9, 10, 11, 5, 12, 6, 13, 14, 7, 15),\n",
       " (0, 8, 1, 2, 3, 6, 9, 10, 11, 4, 14, 5, 12, 13, 7, 15),\n",
       " (0, 8, 1, 2, 3, 9, 4, 10, 6, 11, 12, 5, 14, 7, 13, 15),\n",
       " (0, 8, 1, 2, 3, 9, 5, 10, 6, 11, 13, 4, 14, 7, 12, 15),\n",
       " (0, 8, 1, 2, 3, 9, 5, 10, 11, 6, 13, 14, 4, 12, 7, 15),\n",
       " (0, 8, 1, 2, 3, 9, 10, 4, 11, 5, 12, 6, 13, 14, 7, 15),\n",
       " (0, 8, 1, 2, 3, 9, 10, 4, 11, 6, 12, 14, 5, 7, 13, 15),\n",
       " (0, 8, 1, 2, 3, 9, 10, 4, 11, 6, 12, 14, 5, 13, 7, 15),\n",
       " (0, 8, 1, 2, 3, 9, 10, 4, 11, 12, 5, 6, 13, 7, 14, 15),\n",
       " (0, 8, 1, 2, 3, 9, 10, 4, 11, 12, 5, 13, 6, 14, 7, 15),\n",
       " (0, 8, 1, 2, 3, 9, 10, 5, 6, 11, 4, 13, 14, 7, 12, 15),\n",
       " (0, 8, 1, 2, 3, 9, 10, 5, 11, 6, 13, 4, 14, 12, 7, 15),\n",
       " (0, 8, 1, 2, 3, 9, 10, 6, 4, 11, 14, 5, 12, 7, 13, 15),\n",
       " (0, 8, 1, 2, 4, 3, 9, 10, 5, 12, 11, 6, 13, 7, 14, 15),\n",
       " (0, 8, 1, 2, 4, 3, 9, 10, 6, 12, 11, 14, 5, 7, 13, 15),\n",
       " (0, 8, 1, 2, 4, 9, 3, 5, 10, 6, 12, 7, 11, 13, 14, 15),\n",
       " (0, 8, 1, 2, 4, 9, 3, 10, 5, 12, 6, 11, 13, 7, 14, 15),\n",
       " (0, 8, 1, 2, 4, 9, 10, 3, 12, 6, 11, 5, 14, 7, 13, 15),\n",
       " (0, 8, 1, 2, 9, 3, 4, 5, 10, 11, 12, 6, 13, 7, 14, 15),\n",
       " (0, 8, 1, 2, 9, 3, 4, 5, 10, 11, 12, 6, 13, 14, 7, 15),\n",
       " (0, 8, 1, 2, 9, 3, 4, 10, 6, 11, 5, 12, 14, 7, 13, 15),\n",
       " (0, 8, 1, 2, 9, 3, 4, 10, 11, 6, 12, 14, 5, 13, 7, 15),\n",
       " (0, 8, 1, 2, 9, 3, 5, 6, 10, 11, 4, 13, 14, 7, 12, 15),\n",
       " (0, 8, 1, 2, 9, 3, 5, 10, 6, 11, 13, 4, 14, 7, 12, 15),\n",
       " (0, 8, 1, 2, 9, 3, 5, 10, 6, 11, 13, 14, 4, 12, 7, 15),\n",
       " (0, 8, 1, 2, 9, 3, 5, 10, 11, 6, 13, 4, 7, 14, 12, 15),\n",
       " (0, 8, 1, 2, 9, 3, 5, 10, 11, 6, 13, 4, 14, 7, 12, 15),\n",
       " (0, 8, 1, 2, 9, 3, 5, 10, 11, 6, 13, 4, 14, 12, 7, 15),\n",
       " (0, 8, 1, 2, 9, 3, 5, 10, 11, 6, 13, 14, 4, 12, 7, 15),\n",
       " (0, 8, 1, 2, 9, 3, 6, 10, 11, 4, 5, 14, 7, 12, 13, 15),\n",
       " (0, 8, 1, 2, 9, 3, 10, 4, 6, 11, 12, 5, 14, 7, 13, 15),\n",
       " (0, 8, 1, 2, 9, 3, 10, 4, 11, 5, 12, 6, 7, 13, 14, 15),\n",
       " (0, 8, 1, 2, 9, 3, 10, 4, 11, 6, 12, 14, 5, 13, 7, 15),\n",
       " (0, 8, 1, 2, 9, 3, 10, 5, 6, 4, 11, 13, 14, 7, 12, 15),\n",
       " (0, 8, 1, 2, 9, 3, 10, 5, 11, 6, 4, 13, 14, 12, 7, 15),\n",
       " (0, 8, 1, 2, 9, 3, 10, 5, 11, 13, 4, 6, 12, 7, 14, 15),\n",
       " (0, 8, 1, 2, 9, 3, 10, 5, 11, 13, 4, 12, 6, 7, 14, 15),\n",
       " (0, 8, 1, 2, 9, 3, 10, 6, 4, 11, 5, 14, 12, 7, 13, 15),\n",
       " (0, 8, 1, 2, 9, 3, 10, 6, 4, 11, 14, 5, 12, 13, 7, 15),\n",
       " (0, 8, 1, 2, 9, 3, 10, 11, 4, 5, 12, 6, 13, 7, 14, 15),\n",
       " (0, 8, 1, 2, 9, 3, 10, 11, 4, 12, 5, 6, 13, 7, 14, 15),\n",
       " (0, 8, 1, 2, 9, 3, 10, 11, 4, 12, 6, 14, 5, 13, 7, 15),\n",
       " (0, 8, 1, 2, 9, 3, 10, 11, 5, 6, 13, 14, 4, 12, 7, 15),\n",
       " (0, 8, 1, 2, 9, 4, 3, 10, 5, 12, 6, 11, 13, 7, 14, 15),\n",
       " (0, 8, 1, 2, 9, 4, 3, 10, 12, 5, 11, 6, 13, 7, 14, 15),\n",
       " (0, 8, 1, 2, 9, 4, 10, 3, 12, 5, 11, 6, 13, 14, 7, 15),\n",
       " (0, 8, 1, 2, 9, 4, 10, 3, 12, 6, 11, 5, 14, 7, 13, 15),\n",
       " (0, 8, 1, 2, 9, 4, 10, 3, 12, 11, 5, 6, 13, 7, 14, 15),\n",
       " (0, 8, 1, 2, 9, 10, 3, 4, 11, 5, 12, 13, 6, 14, 7, 15),\n",
       " (0, 8, 1, 2, 9, 10, 3, 6, 4, 11, 5, 14, 7, 12, 13, 15),\n",
       " (0, 8, 1, 2, 9, 10, 3, 6, 4, 11, 14, 5, 12, 7, 13, 15),\n",
       " (0, 8, 1, 2, 9, 10, 3, 11, 4, 5, 12, 6, 13, 7, 14, 15),\n",
       " (0, 8, 1, 2, 9, 10, 3, 11, 6, 4, 14, 12, 5, 13, 7, 15),\n",
       " (0, 8, 1, 2, 9, 10, 3, 11, 6, 14, 4, 12, 5, 13, 7, 15),\n",
       " (0, 8, 1, 9, 2, 3, 5, 10, 6, 11, 4, 13, 14, 7, 12, 15),\n",
       " (0, 8, 1, 9, 2, 3, 6, 10, 11, 4, 14, 5, 12, 13, 7, 15),\n",
       " (0, 8, 1, 9, 2, 3, 10, 4, 11, 6, 12, 14, 5, 13, 7, 15),\n",
       " (0, 8, 1, 9, 2, 3, 10, 5, 11, 6, 13, 4, 7, 14, 12, 15),\n",
       " (0, 8, 1, 9, 2, 3, 10, 5, 11, 6, 13, 4, 14, 12, 7, 15),\n",
       " (0, 8, 1, 9, 2, 3, 10, 5, 11, 6, 13, 14, 4, 7, 12, 15),\n",
       " (0, 8, 1, 9, 2, 3, 10, 5, 11, 6, 13, 14, 4, 12, 7, 15),\n",
       " (0, 8, 1, 9, 2, 3, 10, 6, 4, 11, 5, 7, 14, 12, 13, 15),\n",
       " (0, 8, 1, 9, 2, 3, 10, 6, 4, 11, 5, 14, 7, 12, 13, 15),\n",
       " (0, 8, 1, 9, 2, 3, 10, 6, 4, 11, 14, 5, 12, 7, 13, 15),\n",
       " (0, 8, 1, 9, 2, 3, 10, 11, 6, 4, 14, 12, 5, 13, 7, 15),\n",
       " (0, 8, 1, 9, 2, 4, 3, 5, 10, 12, 6, 11, 13, 7, 14, 15),\n",
       " (0, 8, 1, 9, 2, 4, 3, 5, 10, 12, 11, 6, 13, 14, 7, 15),\n",
       " (0, 8, 1, 9, 2, 4, 3, 10, 5, 12, 6, 11, 13, 7, 14, 15),\n",
       " (0, 8, 1, 9, 2, 4, 3, 10, 5, 12, 11, 13, 6, 14, 7, 15),\n",
       " (0, 8, 1, 9, 2, 4, 3, 10, 6, 12, 11, 5, 14, 7, 13, 15),\n",
       " (0, 8, 1, 9, 2, 4, 3, 10, 12, 5, 6, 11, 7, 13, 14, 15),\n",
       " (0, 8, 1, 9, 2, 4, 3, 10, 12, 5, 6, 11, 13, 7, 14, 15),\n",
       " (0, 8, 1, 9, 2, 4, 3, 10, 12, 5, 11, 6, 13, 7, 14, 15),\n",
       " (0, 8, 1, 9, 2, 4, 3, 10, 12, 11, 6, 14, 5, 13, 7, 15),\n",
       " (0, 8, 1, 9, 2, 4, 10, 3, 5, 12, 6, 11, 13, 7, 14, 15),\n",
       " (0, 8, 1, 9, 2, 4, 10, 3, 12, 5, 6, 11, 13, 7, 14, 15),\n",
       " (0, 8, 1, 9, 2, 4, 10, 3, 12, 6, 11, 5, 14, 7, 13, 15),\n",
       " (0, 8, 1, 9, 2, 10, 3, 4, 5, 11, 6, 12, 13, 7, 14, 15),\n",
       " (0, 8, 1, 9, 2, 10, 3, 4, 11, 5, 6, 12, 13, 7, 14, 15),\n",
       " (0, 8, 1, 9, 2, 10, 3, 4, 11, 6, 12, 14, 5, 13, 7, 15),\n",
       " (0, 8, 1, 9, 2, 10, 3, 5, 6, 11, 4, 13, 14, 7, 12, 15),\n",
       " (0, 8, 1, 9, 2, 10, 3, 5, 11, 6, 13, 4, 14, 7, 12, 15),\n",
       " (0, 8, 1, 9, 2, 10, 3, 5, 11, 6, 13, 4, 14, 12, 7, 15),\n",
       " (0, 8, 1, 9, 2, 10, 3, 6, 4, 11, 14, 5, 12, 7, 13, 15),\n",
       " (0, 8, 1, 9, 2, 10, 3, 11, 4, 5, 12, 6, 13, 7, 14, 15),\n",
       " (0, 8, 1, 9, 2, 10, 3, 11, 4, 5, 12, 13, 6, 7, 14, 15),\n",
       " (0, 8, 1, 9, 2, 10, 3, 11, 6, 4, 14, 5, 12, 7, 13, 15),\n",
       " (0, 8, 1, 9, 2, 10, 3, 11, 6, 4, 14, 12, 5, 13, 7, 15)]"
      ]
     },
     "execution_count": 153,
     "metadata": {},
     "output_type": "execute_result"
    }
   ],
   "source": [
    "t_candidates"
   ]
  },
  {
   "cell_type": "code",
   "execution_count": 200,
   "metadata": {},
   "outputs": [],
   "source": [
    "# (x+y+z)w y,z projection\n",
    "proj_real = [[0, 1, 2, 3, 4, 5, 6, 7],\n",
    "[0, 1, 2, 3, 4, 6, 5, 7],\n",
    "[0, 1, 2, 4, 3, 5, 6, 7],\n",
    "[0, 1, 2, 4, 3, 6, 5, 7],\n",
    "[0, 1, 2, 4, 6, 3, 5, 7],\n",
    "[0, 1, 4, 2, 5, 3, 6, 7],\n",
    "[0, 1, 4, 2, 5, 6, 3, 7],\n",
    "[0, 1, 4, 2, 6, 5, 3, 7],\n",
    "[0, 1, 4, 5, 2, 3, 6, 7],\n",
    "[0, 1, 4, 5, 2, 6, 3, 7],\n",
    "[0, 2, 1, 3, 4, 6, 5, 7],\n",
    "[0, 2, 1, 4, 3, 6, 5, 7],\n",
    "[0, 2, 1, 4, 6, 3, 5, 7],\n",
    "[0, 2, 4, 1, 6, 3, 5, 7],\n",
    "[0, 2, 4, 6, 1, 3, 5, 7],\n",
    "[0, 4, 1, 2, 5, 6, 3, 7],\n",
    "[0, 4, 1, 2, 6, 5, 3, 7],\n",
    "[0, 4, 1, 5, 2, 6, 3, 7],\n",
    "[0, 4, 2, 1, 6, 5, 3, 7],\n",
    "[0, 4, 2, 6, 1, 5, 3, 7]]\n",
    "proj_real = set(list(map(lambda x: tuple(x), proj_real)))"
   ]
  },
  {
   "cell_type": "code",
   "execution_count": 201,
   "metadata": {},
   "outputs": [],
   "source": [
    "# (x+y+z)w y,z projection\n",
    "proj = []\n",
    "for i in range(len(t_candidates)):\n",
    "    temp = []\n",
    "    for j in range(len(t_candidates[i])):\n",
    "        if t_candidates[i][j] < 8:\n",
    "            temp.append(t_candidates[i][j])\n",
    "    temp = tuple(temp)\n",
    "    proj.append(temp)\n",
    "    \n",
    "        "
   ]
  },
  {
   "cell_type": "code",
   "execution_count": 202,
   "metadata": {},
   "outputs": [],
   "source": [
    "rr  = []\n",
    "for i in range(len(proj)):\n",
    "    if proj[i] not in proj_real:\n",
    "        rr.append(t_candidates[i])\n"
   ]
  },
  {
   "cell_type": "code",
   "execution_count": 203,
   "metadata": {},
   "outputs": [],
   "source": [
    "# (x+y+z)w y,z projection\n",
    "proj = []\n",
    "for i in range(len(rr)):\n",
    "    temp = []\n",
    "    for j in range(len(t_candidates[i])):\n",
    "        if t_candidates[i][j] in [0,4,8,12,1,5,9,13]:\n",
    "            t = int(t_candidates[i][j]/2) + int(t_candidates[i][j]%2)\n",
    "            temp.append(t)\n",
    "    temp = tuple(temp)\n",
    "    proj.append(temp)"
   ]
  },
  {
   "cell_type": "code",
   "execution_count": 204,
   "metadata": {},
   "outputs": [],
   "source": [
    "rrr  = []\n",
    "for i in range(len(proj)):\n",
    "    if proj[i] not in proj_real:\n",
    "        rrr.append(rr[i])"
   ]
  },
  {
   "cell_type": "code",
   "execution_count": 206,
   "metadata": {},
   "outputs": [],
   "source": [
    "# (x+y+z)w x,z projection\n",
    "proj = []\n",
    "for i in range(len(rrr)):\n",
    "    temp = []\n",
    "    for j in range(len(t_candidates[i])):\n",
    "        if t_candidates[i][j] in [0,2,8,10,1,3,9,11]:\n",
    "            t = int(t_candidates[i][j]/8)*4 + int(t_candidates[i][j]%4)\n",
    "            temp.append(t)\n",
    "    temp = tuple(temp)\n",
    "    proj.append(temp)"
   ]
  },
  {
   "cell_type": "code",
   "execution_count": 212,
   "metadata": {},
   "outputs": [],
   "source": [
    "rrrr  = []\n",
    "for i in range(len(proj)):\n",
    "    if proj[i] not in proj_real:\n",
    "        rrrr.append(rrr[i])"
   ]
  },
  {
   "cell_type": "code",
   "execution_count": 216,
   "metadata": {},
   "outputs": [],
   "source": [
    "final_rest = list(map(lambda x: list(x), rrrr))"
   ]
  },
  {
   "cell_type": "code",
   "execution_count": 222,
   "metadata": {},
   "outputs": [],
   "source": [
    "id_list = []\n",
    "for i in range(len(final_rest)):\n",
    "    id_list.append(m_ret.index(final_rest[i])+1)\n",
    "id_list = sorted(id_list)"
   ]
  },
  {
   "cell_type": "code",
   "execution_count": 223,
   "metadata": {},
   "outputs": [
    {
     "data": {
      "text/plain": [
       "[2806,\n",
       " 2861,\n",
       " 3091,\n",
       " 3286,\n",
       " 3363,\n",
       " 3666,\n",
       " 3945,\n",
       " 4004,\n",
       " 4219,\n",
       " 4288,\n",
       " 4725,\n",
       " 4775,\n",
       " 4791,\n",
       " 5225,\n",
       " 5376]"
      ]
     },
     "execution_count": 223,
     "metadata": {},
     "output_type": "execute_result"
    }
   ],
   "source": [
    "id_list"
   ]
  },
  {
   "cell_type": "markdown",
   "metadata": {},
   "source": [
    "# 60 seconds"
   ]
  },
  {
   "cell_type": "code",
   "execution_count": 24,
   "metadata": {},
   "outputs": [
    {
     "name": "stdout",
     "output_type": "stream",
     "text": [
      "19.306831121444702\n"
     ]
    }
   ],
   "source": [
    "import random\n",
    "start = time.time()\n",
    "random.seed(start)\n",
    "time_limit = 200000\n",
    "r, d =  random_ordering([2,2,2,2],time_limit=time_limit)\n",
    "ords = list(map(lambda x: tuple(x),r))\n",
    "ords = list(set(ords))\n",
    "print(time.time() - start)"
   ]
  },
  {
   "cell_type": "code",
   "execution_count": 25,
   "metadata": {},
   "outputs": [],
   "source": [
    "# tempss=set()\n",
    "tempss= tempss.union(set(ords))"
   ]
  },
  {
   "cell_type": "code",
   "execution_count": 26,
   "metadata": {},
   "outputs": [
    {
     "data": {
      "text/plain": [
       "336"
      ]
     },
     "execution_count": 26,
     "metadata": {},
     "output_type": "execute_result"
    }
   ],
   "source": [
    "len(tempss)"
   ]
  },
  {
   "cell_type": "code",
   "execution_count": 29,
   "metadata": {},
   "outputs": [
    {
     "ename": "NameError",
     "evalue": "name 'data' is not defined",
     "output_type": "error",
     "traceback": [
      "\u001b[0;31m---------------------------------------------------------------------------\u001b[0m",
      "\u001b[0;31mNameError\u001b[0m                                 Traceback (most recent call last)",
      "\u001b[0;32m<ipython-input-29-c5d84736ba45>\u001b[0m in \u001b[0;36m<module>\u001b[0;34m\u001b[0m\n\u001b[0;32m----> 1\u001b[0;31m \u001b[0mdata\u001b[0m\u001b[0;34m\u001b[0m\u001b[0;34m\u001b[0m\u001b[0m\n\u001b[0m",
      "\u001b[0;31mNameError\u001b[0m: name 'data' is not defined"
     ]
    }
   ],
   "source": [
    "data"
   ]
  },
  {
   "cell_type": "code",
   "execution_count": 45,
   "metadata": {},
   "outputs": [],
   "source": [
    "s = random_sample([16])[0]"
   ]
  },
  {
   "cell_type": "code",
   "execution_count": 46,
   "metadata": {},
   "outputs": [
    {
     "data": {
      "text/plain": [
       "(0.008214494383668227,\n",
       " 0.16905773129677656,\n",
       " 0.3985463078129671,\n",
       " 0.461917867050909)"
      ]
     },
     "execution_count": 46,
     "metadata": {},
     "output_type": "execute_result"
    }
   ],
   "source": [
    "s[1],s[2],s[4],s[8]"
   ]
  },
  {
   "cell_type": "code",
   "execution_count": 34,
   "metadata": {},
   "outputs": [
    {
     "data": {
      "text/plain": [
       "[[-0.036839519788808846,\n",
       "  -0.03375377992090616,\n",
       "  0.3937635023925023,\n",
       "  0.39577067675971866,\n",
       "  0.641298501453245,\n",
       "  0.6428658931581243,\n",
       "  0.8828018471818151,\n",
       "  0.8840331559443427,\n",
       "  0.6496364640882999,\n",
       "  0.6511908513819448,\n",
       "  0.889356716661712,\n",
       "  0.8905799856690961,\n",
       "  1.0473045559288026,\n",
       "  1.0483491917035235,\n",
       "  1.2145203647215226,\n",
       "  1.2154042154236435]]"
      ]
     },
     "execution_count": 34,
     "metadata": {},
     "output_type": "execute_result"
    }
   ],
   "source": [
    "s"
   ]
  },
  {
   "cell_type": "code",
   "execution_count": 60,
   "metadata": {},
   "outputs": [],
   "source": [
    "pattern =[2,2,2,2]\n",
    "sample = []\n",
    "for i in range(len(pattern)):\n",
    "    temp = []\n",
    "    count = floor(log(pattern[i],2))\n",
    "    points = np.random.uniform(size = count+1)\n",
    "    first = points[0]\n",
    "    points[0] = -1\n",
    "    points = sorted(points)\n",
    "    points[0] = first\n",
    "    for j in range(pattern[i]):\n",
    "        p = j\n",
    "        pos = 0\n",
    "        current = points[0]\n",
    "        while p:\n",
    "            #print(p, pos)\n",
    "            v = p%2\n",
    "            if v:\n",
    "                current += points[pos+1]\n",
    "            pos+=1\n",
    "            p = floor(p/2)\n",
    "        temp.append(current)\n",
    "    sample.append(list(map(lambda x: log(x),temp)))\n",
    "\n",
    "\n"
   ]
  },
  {
   "cell_type": "code",
   "execution_count": 61,
   "metadata": {},
   "outputs": [
    {
     "data": {
      "text/plain": [
       "[[-1.2932053932483418, -0.5127542369756298],\n",
       " [-0.2516784293031698, -0.05569246979749796],\n",
       " [-1.7738520931627655, -1.0813675927991453],\n",
       " [-0.0016578748168486618, 0.34518543043122757]]"
      ]
     },
     "execution_count": 61,
     "metadata": {},
     "output_type": "execute_result"
    }
   ],
   "source": [
    "sample"
   ]
  },
  {
   "cell_type": "code",
   "execution_count": 4,
   "metadata": {},
   "outputs": [],
   "source": [
    "m=[4,2]\n",
    "acc_prod = list(map(lambda x: int(x), [np.prod(m[i+1:]) for i in range(len(m))]))"
   ]
  },
  {
   "cell_type": "code",
   "execution_count": 6,
   "metadata": {},
   "outputs": [
    {
     "data": {
      "text/plain": [
       "[2, 1]"
      ]
     },
     "execution_count": 6,
     "metadata": {},
     "output_type": "execute_result"
    }
   ],
   "source": [
    "acc_prod"
   ]
  },
  {
   "cell_type": "code",
   "execution_count": 7,
   "metadata": {},
   "outputs": [
    {
     "name": "stdout",
     "output_type": "stream",
     "text": [
      "0.11739325523376465\n"
     ]
    }
   ],
   "source": [
    "import random\n",
    "start = time.time()\n",
    "random.seed(start)\n",
    "time_limit = 2000\n",
    "r, d =  random_ordering([4,2],time_limit=time_limit)\n",
    "ords = list(map(lambda x: tuple(x),r))\n",
    "ords = list(set(ords))\n",
    "print(time.time() - start)"
   ]
  },
  {
   "cell_type": "code",
   "execution_count": 9,
   "metadata": {},
   "outputs": [
    {
     "data": {
      "text/plain": [
       "10"
      ]
     },
     "execution_count": 9,
     "metadata": {},
     "output_type": "execute_result"
    }
   ],
   "source": [
    "len(ords)"
   ]
  },
  {
   "cell_type": "code",
   "execution_count": 11,
   "metadata": {},
   "outputs": [
    {
     "data": {
      "text/plain": [
       "[(0, 1, 2, 3, 4, 5, 6, 7),\n",
       " (0, 1, 2, 3, 4, 6, 5, 7),\n",
       " (0, 1, 2, 4, 3, 5, 6, 7),\n",
       " (0, 1, 2, 4, 3, 6, 5, 7),\n",
       " (0, 1, 2, 4, 6, 3, 5, 7),\n",
       " (0, 2, 1, 3, 4, 6, 5, 7),\n",
       " (0, 2, 1, 4, 3, 6, 5, 7),\n",
       " (0, 2, 1, 4, 6, 3, 5, 7),\n",
       " (0, 2, 4, 1, 6, 3, 5, 7),\n",
       " (0, 2, 4, 6, 1, 3, 5, 7)]"
      ]
     },
     "execution_count": 11,
     "metadata": {},
     "output_type": "execute_result"
    }
   ],
   "source": [
    "sorted(ords)"
   ]
  },
  {
   "cell_type": "code",
   "execution_count": null,
   "metadata": {},
   "outputs": [],
   "source": [
    "[0, 1, 2, 3, 4, 5, 6, 7]\n",
    "[0, 1, 2, 3, 4, 6, 5, 7]\n",
    "[0, 1, 2, 4, 3, 5, 6, 7]\n",
    "[0, 1, 2, 4, 3, 6, 5, 7]\n",
    "[0, 1, 2, 4, 6, 3, 5, 7]\n",
    "[0, 1, 4, 2, 5, 3, 6, 7]\n",
    "[0, 1, 4, 2, 5, 6, 3, 7]\n",
    "[0, 1, 4, 2, 6, 5, 3, 7]\n",
    "[0, 1, 4, 5, 2, 3, 6, 7]\n",
    "[0, 1, 4, 5, 2, 6, 3, 7]\n",
    "[0, 2, 1, 3, 4, 5, 6, 7]\n",
    "[0, 2, 1, 3, 4, 6, 5, 7]\n",
    "[0, 2, 1, 4, 3, 5, 6, 7]\n",
    "[0, 2, 1, 4, 3, 6, 5, 7]\n",
    "[0, 2, 1, 4, 6, 3, 5, 7]\n",
    "[0, 2, 4, 1, 3, 5, 6, 7]\n",
    "[0, 2, 4, 1, 3, 6, 5, 7]\n",
    "[0, 2, 4, 1, 6, 3, 5, 7]\n",
    "[0, 2, 4, 6, 1, 3, 5, 7]\n",
    "[0, 4, 1, 2, 5, 3, 6, 7]\n",
    "[0, 4, 1, 2, 5, 6, 3, 7]\n",
    "[0, 4, 1, 2, 6, 5, 3, 7]\n",
    "[0, 4, 1, 5, 2, 3, 6, 7]\n",
    "[0, 4, 1, 5, 2, 6, 3, 7]\n",
    "[0, 4, 2, 1, 5, 3, 6, 7]\n",
    "[0, 4, 2, 1, 5, 6, 3, 7]\n",
    "[0, 4, 2, 1, 6, 5, 3, 7]\n",
    "[0, 4, 2, 6, 1, 5, 3, 7]"
   ]
  }
 ],
 "metadata": {
  "kernelspec": {
   "display_name": "Python (tensorflow)",
   "language": "python",
   "name": "myenv"
  },
  "language_info": {
   "codemirror_mode": {
    "name": "ipython",
    "version": 3
   },
   "file_extension": ".py",
   "mimetype": "text/x-python",
   "name": "python",
   "nbconvert_exporter": "python",
   "pygments_lexer": "ipython3",
   "version": "3.6.7"
  }
 },
 "nbformat": 4,
 "nbformat_minor": 2
}
