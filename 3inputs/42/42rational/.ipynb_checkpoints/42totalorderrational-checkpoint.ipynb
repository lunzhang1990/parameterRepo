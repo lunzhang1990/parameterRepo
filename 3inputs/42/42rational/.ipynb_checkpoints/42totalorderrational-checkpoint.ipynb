{
 "cells": [
  {
   "cell_type": "code",
   "execution_count": 1,
   "metadata": {},
   "outputs": [],
   "source": [
    "from helpers import run3\n",
    "import json"
   ]
  },
  {
   "cell_type": "code",
   "execution_count": 3,
   "metadata": {},
   "outputs": [
    {
     "data": {
      "text/plain": [
       "'/Users/lunzhang/Desktop/parameterSpaceComputation/3inputs/42/42numerical'"
      ]
     },
     "execution_count": 3,
     "metadata": {},
     "output_type": "execute_result"
    }
   ],
   "source": [
    "pwd"
   ]
  },
  {
   "cell_type": "code",
   "execution_count": 4,
   "metadata": {},
   "outputs": [
    {
     "name": "stdout",
     "output_type": "stream",
     "text": [
      "6 4\n",
      "6 2\n",
      "4 0\n",
      "2 0\n",
      "1 0\n",
      "predecessors done\n",
      "logics done\n"
     ]
    }
   ],
   "source": [
    "run3('4_2','42_symmetric.dat','../../../extraRestriction/restrictions21.json')"
   ]
  },
  {
   "cell_type": "code",
   "execution_count": 7,
   "metadata": {},
   "outputs": [],
   "source": [
    "# construct asymmetric file delta[3] > delta[2]\n",
    "temp = []\n",
    "with open('42_symmetric.dat','r') as file:\n",
    "    line = file.readline()\n",
    "    while line:\n",
    "        line = eval(line)\n",
    "        temp.append(line)\n",
    "        line = file.readline()"
   ]
  },
  {
   "cell_type": "code",
   "execution_count": 8,
   "metadata": {},
   "outputs": [],
   "source": [
    "ret = []\n",
    "for perm in temp:\n",
    "    if perm.index(2) < perm.index(4):\n",
    "        ret.append(perm)"
   ]
  },
  {
   "cell_type": "code",
   "execution_count": 9,
   "metadata": {},
   "outputs": [],
   "source": [
    "with open('42_asymmetric.json','w') as file:\n",
    "    json.dump(ret,file)"
   ]
  },
  {
   "cell_type": "code",
   "execution_count": 1,
   "metadata": {},
   "outputs": [
    {
     "name": "stdout",
     "output_type": "stream",
     "text": [
      "6 6\n",
      "6 18\n",
      "4 8\n",
      "2 2\n",
      "1 1\n"
     ]
    }
   ],
   "source": [
    "basis_matrix = []\n",
    "acc_prod = [2,1]\n",
    "lhs = set()\n",
    "m =[4,2]\n",
    "for i in range(len(m)):\n",
    "\n",
    "    basis = m[i] - 1\n",
    "    while basis:\n",
    "\n",
    "        temp = basis\n",
    "        count=0\n",
    "        while temp:\n",
    "            count+=1\n",
    "            temp>>=1\n",
    "\n",
    "        for j in range(count):\n",
    "            if (basis & (1<<j)):\n",
    "                p1 = basis*acc_prod[i]\n",
    "                p2 = (basis^(1<<j))*acc_prod[i]\n",
    "                print(p1,p2)\n",
    "                #basis_matrix.append(p_matrix[p1]-p_matrix[p2])\n",
    "                lhs.add((p1,p2))\n",
    "\n",
    "        basis -=1\n",
    "\n"
   ]
  },
  {
   "cell_type": "code",
   "execution_count": 3,
   "metadata": {},
   "outputs": [
    {
     "data": {
      "text/plain": [
       "3"
      ]
     },
     "execution_count": 3,
     "metadata": {},
     "output_type": "execute_result"
    }
   ],
   "source": [
    "1^^2"
   ]
  },
  {
   "cell_type": "code",
   "execution_count": null,
   "metadata": {},
   "outputs": [],
   "source": []
  }
 ],
 "metadata": {
  "kernelspec": {
   "display_name": "SageMath 8.9",
   "language": "sage",
   "name": "sagemath"
  },
  "language_info": {
   "codemirror_mode": {
    "name": "ipython",
    "version": 3
   },
   "file_extension": ".py",
   "mimetype": "text/x-python",
   "name": "python",
   "nbconvert_exporter": "python",
   "pygments_lexer": "ipython3",
   "version": "3.6.7"
  }
 },
 "nbformat": 4,
 "nbformat_minor": 2
}
