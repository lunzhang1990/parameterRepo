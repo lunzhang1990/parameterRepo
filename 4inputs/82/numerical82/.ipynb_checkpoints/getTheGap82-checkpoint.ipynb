{
 "cells": [
  {
   "cell_type": "code",
   "execution_count": 12,
   "metadata": {},
   "outputs": [],
   "source": [
    "import os \n",
    "import json"
   ]
  },
  {
   "cell_type": "code",
   "execution_count": 13,
   "metadata": {},
   "outputs": [],
   "source": [
    "filelist = []\n",
    "for file in os.listdir():\n",
    "    if file.startswith('8_2') and file.endswith('.dat'):\n",
    "        filelist.append(file)"
   ]
  },
  {
   "cell_type": "code",
   "execution_count": 14,
   "metadata": {},
   "outputs": [],
   "source": [
    "linearizedOrders = []\n",
    "for file in filelist:\n",
    "    with open(file,'r') as file:\n",
    "        line = file.readline()\n",
    "        while line:\n",
    "            linearizedOrders.append(tuple(eval(line)))\n",
    "            line = file.readline()"
   ]
  },
  {
   "cell_type": "code",
   "execution_count": 15,
   "metadata": {},
   "outputs": [
    {
     "data": {
      "text/plain": [
       "852"
      ]
     },
     "execution_count": 15,
     "metadata": {},
     "output_type": "execute_result"
    }
   ],
   "source": [
    "len(linearizedOrders)"
   ]
  },
  {
   "cell_type": "code",
   "execution_count": 16,
   "metadata": {},
   "outputs": [],
   "source": [
    "sampleOrders = []\n",
    "with open('../../../Sampler/sample82/82prec3.dat','r') as file:\n",
    "    line = file.readline()\n",
    "    while line:\n",
    "        temp = eval(line.split(':')[0])\n",
    "        sampleOrders.append(temp)\n",
    "        line = file.readline()"
   ]
  },
  {
   "cell_type": "code",
   "execution_count": 17,
   "metadata": {},
   "outputs": [
    {
     "data": {
      "text/plain": [
       "514"
      ]
     },
     "execution_count": 17,
     "metadata": {},
     "output_type": "execute_result"
    }
   ],
   "source": [
    "len(sampleOrders)"
   ]
  },
  {
   "cell_type": "code",
   "execution_count": 18,
   "metadata": {},
   "outputs": [
    {
     "name": "stdout",
     "output_type": "stream",
     "text": [
      "852 852\n",
      "263 514\n"
     ]
    }
   ],
   "source": [
    "# test whehter it is delta[4] > delta[3] and delta[2] > delta[1]\n",
    "count1 = 0\n",
    "for order in linearizedOrders:\n",
    "    if order.index(2) < order.index(4) and order.index(4) < order.index(8):\n",
    "        count1+=1\n",
    "print(count1, len(linearizedOrders))\n",
    "\n",
    "count2 = 0\n",
    "for order in sampleOrders:\n",
    "    if order.index(1) < order.index(2) and order.index(4) < order.index(8):\n",
    "        count2+=1\n",
    "        \n",
    "print(count2, len(sampleOrders))\n",
    "\n",
    "# test result is correct"
   ]
  },
  {
   "cell_type": "code",
   "execution_count": 19,
   "metadata": {},
   "outputs": [
    {
     "data": {
      "text/plain": [
       "True"
      ]
     },
     "execution_count": 19,
     "metadata": {},
     "output_type": "execute_result"
    }
   ],
   "source": [
    "# it is a strict subset\n",
    "set(sampleOrders).issubset(set(linearizedOrders))"
   ]
  },
  {
   "cell_type": "code",
   "execution_count": 20,
   "metadata": {},
   "outputs": [
    {
     "data": {
      "text/plain": [
       "338"
      ]
     },
     "execution_count": 20,
     "metadata": {},
     "output_type": "execute_result"
    }
   ],
   "source": [
    "gap = list(set(linearizedOrders) - set(sampleOrders))\n",
    "len(gap)"
   ]
  },
  {
   "cell_type": "code",
   "execution_count": 21,
   "metadata": {},
   "outputs": [],
   "source": [
    "# by using symmetry of first and second sum component we can assume p_{8+4} > p_{2+1}"
   ]
  },
  {
   "cell_type": "code",
   "execution_count": 22,
   "metadata": {},
   "outputs": [],
   "source": [
    "with open('gap82.json','w') as file:\n",
    "    json.dump(gap,file)"
   ]
  },
  {
   "cell_type": "code",
   "execution_count": 23,
   "metadata": {},
   "outputs": [
    {
     "data": {
      "text/plain": [
       "'/Users/lunzhang/Desktop/parameterSpaceComputation/4inputs/82/numerical82'"
      ]
     },
     "execution_count": 23,
     "metadata": {},
     "output_type": "execute_result"
    }
   ],
   "source": [
    "pwd"
   ]
  },
  {
   "cell_type": "markdown",
   "metadata": {},
   "source": [
    "# analyze the 3 second cad data by using symmetry of (delta[1],delta[2]) and (delta[3],delta[4])"
   ]
  },
  {
   "cell_type": "code",
   "execution_count": 43,
   "metadata": {},
   "outputs": [],
   "source": [
    "with open('nodret3s.json','r') as file:\n",
    "    emptyindex = json.load(file)\n",
    "    emptyindex =[i-1 for i in emptyindex] "
   ]
  },
  {
   "cell_type": "code",
   "execution_count": 175,
   "metadata": {},
   "outputs": [],
   "source": [
    "gaprest= []\n",
    "notknow = []\n",
    "for i in range(len(gap)):\n",
    "    if i not in emptyindex:\n",
    "        notknow.append(i+1)\n",
    "        gaprest.append(gap[i])"
   ]
  },
  {
   "cell_type": "code",
   "execution_count": 176,
   "metadata": {},
   "outputs": [
    {
     "data": {
      "text/plain": [
       "84"
      ]
     },
     "execution_count": 176,
     "metadata": {},
     "output_type": "execute_result"
    }
   ],
   "source": [
    "len(gaprest)"
   ]
  },
  {
   "cell_type": "code",
   "execution_count": 177,
   "metadata": {},
   "outputs": [
    {
     "data": {
      "text/plain": [
       "[10,\n",
       " 17,\n",
       " 25,\n",
       " 46,\n",
       " 50,\n",
       " 61,\n",
       " 62,\n",
       " 65,\n",
       " 69,\n",
       " 72,\n",
       " 75,\n",
       " 89,\n",
       " 92,\n",
       " 98,\n",
       " 102,\n",
       " 111,\n",
       " 118,\n",
       " 119,\n",
       " 120,\n",
       " 121,\n",
       " 123,\n",
       " 125,\n",
       " 140,\n",
       " 151,\n",
       " 153,\n",
       " 170,\n",
       " 188,\n",
       " 200,\n",
       " 210,\n",
       " 226,\n",
       " 245,\n",
       " 262,\n",
       " 272,\n",
       " 276,\n",
       " 288,\n",
       " 293,\n",
       " 295,\n",
       " 299,\n",
       " 310,\n",
       " 322,\n",
       " 330,\n",
       " 340,\n",
       " 342,\n",
       " 349,\n",
       " 350,\n",
       " 355,\n",
       " 360,\n",
       " 372,\n",
       " 373,\n",
       " 375,\n",
       " 384,\n",
       " 390,\n",
       " 398,\n",
       " 400,\n",
       " 404,\n",
       " 416,\n",
       " 418,\n",
       " 448,\n",
       " 458,\n",
       " 459,\n",
       " 467,\n",
       " 470,\n",
       " 480,\n",
       " 487,\n",
       " 490,\n",
       " 499,\n",
       " 502,\n",
       " 503,\n",
       " 508,\n",
       " 514,\n",
       " 529,\n",
       " 538,\n",
       " 543,\n",
       " 566,\n",
       " 568,\n",
       " 577,\n",
       " 582,\n",
       " 597,\n",
       " 614,\n",
       " 616,\n",
       " 621,\n",
       " 629,\n",
       " 640,\n",
       " 643]"
      ]
     },
     "execution_count": 177,
     "metadata": {},
     "output_type": "execute_result"
    }
   ],
   "source": [
    "notknow"
   ]
  },
  {
   "cell_type": "code",
   "execution_count": 92,
   "metadata": {},
   "outputs": [],
   "source": [
    "def symmetricOrder(order):\n",
    "    ret = [0 for _ in order]\n",
    "    for i in range(len(order)):\n",
    "        temp = tosymmetric(order[i])\n",
    "        ret[i] = temp\n",
    "    return ret\n",
    "\n",
    "def tosymmetric(i):\n",
    "    temp = format(i,'04b')\n",
    "    ret = temp[2:]  +temp[:2]\n",
    "    return int(ret,2)"
   ]
  },
  {
   "cell_type": "code",
   "execution_count": 102,
   "metadata": {},
   "outputs": [],
   "source": [
    "gapasymmetric = []\n",
    "count  =0 \n",
    "for order in gaprest:\n",
    "    symmorder = tuple(symmetricOrder(order))\n",
    "    # check whehter symmorder is in the linearized order, if not then it can not be realizable\n",
    "    if symmorder in gaprest:\n",
    "        gapasymmetric.append(symmorder)"
   ]
  },
  {
   "cell_type": "code",
   "execution_count": 103,
   "metadata": {},
   "outputs": [
    {
     "data": {
      "text/plain": [
       "84"
      ]
     },
     "execution_count": 103,
     "metadata": {},
     "output_type": "execute_result"
    }
   ],
   "source": [
    "# it shows none of the symmorder is realizable, which is equivalent to say none of the \n",
    "len(gapasymmetric)"
   ]
  },
  {
   "cell_type": "code",
   "execution_count": 106,
   "metadata": {},
   "outputs": [
    {
     "data": {
      "text/plain": [
       "True"
      ]
     },
     "execution_count": 106,
     "metadata": {},
     "output_type": "execute_result"
    }
   ],
   "source": [
    "tuple(symmetricOrder(gaprest[0])) "
   ]
  },
  {
   "cell_type": "code",
   "execution_count": 108,
   "metadata": {},
   "outputs": [
    {
     "data": {
      "text/plain": [
       "(0, 4, 1, 8, 12, 2, 3, 5, 9, 6, 13, 10, 14, 7, 11, 15)"
      ]
     },
     "execution_count": 108,
     "metadata": {},
     "output_type": "execute_result"
    }
   ],
   "source": [
    "gaprest[0]"
   ]
  },
  {
   "cell_type": "code",
   "execution_count": 109,
   "metadata": {},
   "outputs": [
    {
     "data": {
      "text/plain": [
       "[0, 1, 4, 2, 3, 8, 12, 5, 6, 9, 7, 10, 11, 13, 14, 15]"
      ]
     },
     "execution_count": 109,
     "metadata": {},
     "output_type": "execute_result"
    }
   ],
   "source": [
    "symmetricOrder(gaprest[0])"
   ]
  },
  {
   "cell_type": "code",
   "execution_count": 94,
   "metadata": {},
   "outputs": [
    {
     "data": {
      "text/plain": [
       "True"
      ]
     },
     "execution_count": 94,
     "metadata": {},
     "output_type": "execute_result"
    }
   ],
   "source": [
    "symmorder = symmetricOrder(gap[9])\n",
    "tuple(symmorder) in linearizedOrders"
   ]
  },
  {
   "cell_type": "code",
   "execution_count": 186,
   "metadata": {},
   "outputs": [
    {
     "data": {
      "text/plain": [
       "294"
      ]
     },
     "execution_count": 186,
     "metadata": {},
     "output_type": "execute_result"
    }
   ],
   "source": [
    "symmorder = tuple(symmetricOrder(gap[122]))\n",
    "gap.index(symmorder)"
   ]
  },
  {
   "cell_type": "code",
   "execution_count": 183,
   "metadata": {},
   "outputs": [
    {
     "data": {
      "text/plain": [
       "(0, 4, 1, 2, 8, 3, 5, 6, 12, 9, 7, 10, 13, 11, 14, 15)"
      ]
     },
     "execution_count": 183,
     "metadata": {},
     "output_type": "execute_result"
    }
   ],
   "source": [
    "gap[88]"
   ]
  },
  {
   "cell_type": "code",
   "execution_count": 96,
   "metadata": {},
   "outputs": [
    {
     "data": {
      "text/plain": [
       "(0, 1, 4, 2, 3, 8, 12, 5, 6, 9, 7, 10, 11, 13, 14, 15)"
      ]
     },
     "execution_count": 96,
     "metadata": {},
     "output_type": "execute_result"
    }
   ],
   "source": [
    "tuple(symmorder)"
   ]
  },
  {
   "cell_type": "code",
   "execution_count": 97,
   "metadata": {},
   "outputs": [
    {
     "data": {
      "text/plain": [
       "True"
      ]
     },
     "execution_count": 97,
     "metadata": {},
     "output_type": "execute_result"
    }
   ],
   "source": [
    "tuple(symmetricOrder(linearizedOrders[0])) in linearizedOrders"
   ]
  },
  {
   "cell_type": "code",
   "execution_count": null,
   "metadata": {},
   "outputs": [],
   "source": [
    "# it means all the symmorder is in the gap - gaprest, i.e. they are empty"
   ]
  },
  {
   "cell_type": "markdown",
   "metadata": {},
   "source": [
    "# another projected restriction"
   ]
  },
  {
   "cell_type": "code",
   "execution_count": 166,
   "metadata": {},
   "outputs": [],
   "source": [
    "preOrderRestriction = []\n",
    "with open('42_r.dat','r') as file:\n",
    "    line = file.readline()\n",
    "    while line:\n",
    "        temp  = line[:-1].split(' ')\n",
    "        temp = [int(eval(x)/2) for x in temp]\n",
    "        preOrderRestriction.append(temp)\n",
    "        line = file.readline()"
   ]
  },
  {
   "cell_type": "code",
   "execution_count": 167,
   "metadata": {},
   "outputs": [],
   "source": [
    "def transform(i):\n",
    "    b = format(i,'03b')\n",
    "    b = b[:2]+'0'+b[2:]\n",
    "    return int(b,2)"
   ]
  },
  {
   "cell_type": "code",
   "execution_count": 168,
   "metadata": {},
   "outputs": [],
   "source": [
    "for i in range(len(preOrderRestriction)):\n",
    "    temp = [transform(x) for x in preOrderRestriction[i]]\n",
    "    preOrderRestriction[i]  = tuple(temp)"
   ]
  },
  {
   "cell_type": "code",
   "execution_count": 170,
   "metadata": {},
   "outputs": [
    {
     "data": {
      "text/plain": [
       "{(0, 1, 4, 5, 8, 9, 12, 13),\n",
       " (0, 1, 4, 5, 8, 12, 9, 13),\n",
       " (0, 1, 4, 8, 5, 9, 12, 13),\n",
       " (0, 1, 4, 8, 5, 12, 9, 13),\n",
       " (0, 1, 4, 8, 12, 5, 9, 13),\n",
       " (0, 4, 1, 5, 8, 12, 9, 13),\n",
       " (0, 4, 1, 8, 5, 12, 9, 13),\n",
       " (0, 4, 1, 8, 12, 5, 9, 13),\n",
       " (0, 4, 8, 1, 12, 5, 9, 13),\n",
       " (0, 4, 8, 12, 1, 5, 9, 13)}"
      ]
     },
     "execution_count": 170,
     "metadata": {},
     "output_type": "execute_result"
    }
   ],
   "source": [
    "preOrderRestriction = set(preOrderRestriction)\n",
    "preOrderRestriction"
   ]
  },
  {
   "cell_type": "code",
   "execution_count": 171,
   "metadata": {},
   "outputs": [
    {
     "data": {
      "text/plain": [
       "0"
      ]
     },
     "execution_count": 171,
     "metadata": {},
     "output_type": "execute_result"
    }
   ],
   "source": [
    "ret = []\n",
    "for order in gaprest:\n",
    "    temp = []\n",
    "    for i in order:\n",
    "        if i&2 == 0:\n",
    "            temp.append(i)\n",
    "    temp = tuple(temp)\n",
    "    \n",
    "    if temp not in preOrderRestriction:\n",
    "        ret.append(order)\n",
    "        \n",
    "len(ret)"
   ]
  },
  {
   "cell_type": "code",
   "execution_count": 153,
   "metadata": {},
   "outputs": [],
   "source": [
    "ret = []\n",
    "for order in linearizedOrders:\n",
    "    temp = []\n",
    "    for i in order:\n",
    "        if i&2 == 0:\n",
    "            temp.append(i)\n",
    "    temp = tuple(temp)\n",
    "    \n",
    "    if temp not in preOrderRestriction:\n",
    "        ret.append(order)"
   ]
  },
  {
   "cell_type": "code",
   "execution_count": 154,
   "metadata": {},
   "outputs": [
    {
     "data": {
      "text/plain": [
       "0"
      ]
     },
     "execution_count": 154,
     "metadata": {},
     "output_type": "execute_result"
    }
   ],
   "source": [
    "len(ret)"
   ]
  },
  {
   "cell_type": "code",
   "execution_count": 146,
   "metadata": {},
   "outputs": [
    {
     "data": {
      "text/plain": [
       "{(0, 1, 4, 5, 8, 9, 12, 13),\n",
       " (0, 1, 4, 5, 8, 12, 9, 13),\n",
       " (0, 1, 4, 8, 5, 9, 12, 13),\n",
       " (0, 1, 4, 8, 5, 12, 9, 13),\n",
       " (0, 1, 4, 8, 12, 5, 9, 13),\n",
       " (0, 4, 1, 5, 8, 12, 9, 13),\n",
       " (0, 4, 1, 8, 5, 12, 9, 13),\n",
       " (0, 4, 1, 8, 12, 5, 9, 13),\n",
       " (0, 4, 8, 1, 12, 5, 9, 13),\n",
       " (0, 4, 8, 12, 1, 5, 9, 13)}"
      ]
     },
     "execution_count": 146,
     "metadata": {},
     "output_type": "execute_result"
    }
   ],
   "source": [
    "preOrderRestriction"
   ]
  },
  {
   "cell_type": "code",
   "execution_count": 155,
   "metadata": {},
   "outputs": [
    {
     "data": {
      "text/plain": [
       "(0, 1, 2, 3, 4, 8, 5, 12, 9, 6, 13, 10, 7, 14, 11, 15)"
      ]
     },
     "execution_count": 155,
     "metadata": {},
     "output_type": "execute_result"
    }
   ],
   "source": [
    "gap[21]"
   ]
  },
  {
   "cell_type": "code",
   "execution_count": 172,
   "metadata": {},
   "outputs": [
    {
     "data": {
      "text/plain": [
       "[0,\n",
       " 1,\n",
       " 2,\n",
       " 3,\n",
       " 4,\n",
       " 5,\n",
       " 7,\n",
       " 8,\n",
       " 10,\n",
       " 11,\n",
       " 12,\n",
       " 13,\n",
       " 14,\n",
       " 15,\n",
       " 17,\n",
       " 18,\n",
       " 20,\n",
       " 22,\n",
       " 23,\n",
       " 25,\n",
       " 26,\n",
       " 27,\n",
       " 28,\n",
       " 29,\n",
       " 30,\n",
       " 31,\n",
       " 32,\n",
       " 34,\n",
       " 35,\n",
       " 36,\n",
       " 37,\n",
       " 38,\n",
       " 39,\n",
       " 41,\n",
       " 42,\n",
       " 43,\n",
       " 46,\n",
       " 47,\n",
       " 48,\n",
       " 50,\n",
       " 51,\n",
       " 52,\n",
       " 55,\n",
       " 56,\n",
       " 57,\n",
       " 58,\n",
       " 59,\n",
       " 62,\n",
       " 63,\n",
       " 65,\n",
       " 66,\n",
       " 67,\n",
       " 69,\n",
       " 72,\n",
       " 73,\n",
       " 75,\n",
       " 76,\n",
       " 77,\n",
       " 79,\n",
       " 81,\n",
       " 82,\n",
       " 83,\n",
       " 84,\n",
       " 85,\n",
       " 87,\n",
       " 89,\n",
       " 90,\n",
       " 92,\n",
       " 95,\n",
       " 98,\n",
       " 99,\n",
       " 102,\n",
       " 103,\n",
       " 104,\n",
       " 105,\n",
       " 106,\n",
       " 107,\n",
       " 108,\n",
       " 111,\n",
       " 114,\n",
       " 115,\n",
       " 116,\n",
       " 121,\n",
       " 123,\n",
       " 125,\n",
       " 126,\n",
       " 127,\n",
       " 128,\n",
       " 129,\n",
       " 130,\n",
       " 131,\n",
       " 132,\n",
       " 133,\n",
       " 134,\n",
       " 135,\n",
       " 136,\n",
       " 137,\n",
       " 138,\n",
       " 141,\n",
       " 142,\n",
       " 143,\n",
       " 144,\n",
       " 145,\n",
       " 146,\n",
       " 147,\n",
       " 149,\n",
       " 151,\n",
       " 154,\n",
       " 155,\n",
       " 156,\n",
       " 157,\n",
       " 158,\n",
       " 159,\n",
       " 160,\n",
       " 161,\n",
       " 162,\n",
       " 164,\n",
       " 165,\n",
       " 166,\n",
       " 167,\n",
       " 168,\n",
       " 170,\n",
       " 171,\n",
       " 172,\n",
       " 173,\n",
       " 174,\n",
       " 175,\n",
       " 176,\n",
       " 177,\n",
       " 178,\n",
       " 179,\n",
       " 180,\n",
       " 181,\n",
       " 182,\n",
       " 183,\n",
       " 184,\n",
       " 185,\n",
       " 186,\n",
       " 188,\n",
       " 189,\n",
       " 192,\n",
       " 193,\n",
       " 194,\n",
       " 195,\n",
       " 196,\n",
       " 197,\n",
       " 200,\n",
       " 201,\n",
       " 203,\n",
       " 204,\n",
       " 206,\n",
       " 207,\n",
       " 208,\n",
       " 210,\n",
       " 211,\n",
       " 212,\n",
       " 213,\n",
       " 214,\n",
       " 216,\n",
       " 217,\n",
       " 218,\n",
       " 219,\n",
       " 220,\n",
       " 222,\n",
       " 223,\n",
       " 224,\n",
       " 226,\n",
       " 227,\n",
       " 228,\n",
       " 229,\n",
       " 230,\n",
       " 231,\n",
       " 232,\n",
       " 233,\n",
       " 234,\n",
       " 235,\n",
       " 237,\n",
       " 238,\n",
       " 239,\n",
       " 240,\n",
       " 241,\n",
       " 242,\n",
       " 243,\n",
       " 245,\n",
       " 247,\n",
       " 248,\n",
       " 249,\n",
       " 250,\n",
       " 251,\n",
       " 252,\n",
       " 253,\n",
       " 254,\n",
       " 255,\n",
       " 256,\n",
       " 257,\n",
       " 258,\n",
       " 259,\n",
       " 260,\n",
       " 262,\n",
       " 263,\n",
       " 264,\n",
       " 265,\n",
       " 267,\n",
       " 269,\n",
       " 272,\n",
       " 273,\n",
       " 274,\n",
       " 276,\n",
       " 278,\n",
       " 280,\n",
       " 281,\n",
       " 282,\n",
       " 283,\n",
       " 284,\n",
       " 285,\n",
       " 288,\n",
       " 289,\n",
       " 290,\n",
       " 293,\n",
       " 295,\n",
       " 296,\n",
       " 297,\n",
       " 301,\n",
       " 302,\n",
       " 303,\n",
       " 304,\n",
       " 306,\n",
       " 307,\n",
       " 308,\n",
       " 311,\n",
       " 312,\n",
       " 313,\n",
       " 315,\n",
       " 316,\n",
       " 318,\n",
       " 319,\n",
       " 322,\n",
       " 323,\n",
       " 324,\n",
       " 325,\n",
       " 326,\n",
       " 327,\n",
       " 328,\n",
       " 330,\n",
       " 331,\n",
       " 332,\n",
       " 334,\n",
       " 335,\n",
       " 337,\n",
       " 338,\n",
       " 340,\n",
       " 342,\n",
       " 343,\n",
       " 344,\n",
       " 345,\n",
       " 346,\n",
       " 347,\n",
       " 350,\n",
       " 351,\n",
       " 352,\n",
       " 353,\n",
       " 355,\n",
       " 356,\n",
       " 358,\n",
       " 360,\n",
       " 361,\n",
       " 364,\n",
       " 366,\n",
       " 369,\n",
       " 373,\n",
       " 375,\n",
       " 376,\n",
       " 377,\n",
       " 378,\n",
       " 379,\n",
       " 380,\n",
       " 381,\n",
       " 382,\n",
       " 384,\n",
       " 385,\n",
       " 386,\n",
       " 387,\n",
       " 388,\n",
       " 391,\n",
       " 392,\n",
       " 393,\n",
       " 395,\n",
       " 396,\n",
       " 398,\n",
       " 400,\n",
       " 401,\n",
       " 402,\n",
       " 404,\n",
       " 405,\n",
       " 406,\n",
       " 407,\n",
       " 408,\n",
       " 409,\n",
       " 410,\n",
       " 411,\n",
       " 412,\n",
       " 414,\n",
       " 416,\n",
       " 418,\n",
       " 420,\n",
       " 421,\n",
       " 422,\n",
       " 423,\n",
       " 424,\n",
       " 425,\n",
       " 427,\n",
       " 428,\n",
       " 429,\n",
       " 430,\n",
       " 431,\n",
       " 432,\n",
       " 433,\n",
       " 435,\n",
       " 436,\n",
       " 437,\n",
       " 439,\n",
       " 440,\n",
       " 441,\n",
       " 443,\n",
       " 444,\n",
       " 445,\n",
       " 446,\n",
       " 448,\n",
       " 449,\n",
       " 451,\n",
       " 452,\n",
       " 453,\n",
       " 454,\n",
       " 455,\n",
       " 459,\n",
       " 461,\n",
       " 462,\n",
       " 463,\n",
       " 464,\n",
       " 465,\n",
       " 467,\n",
       " 470,\n",
       " 471,\n",
       " 472,\n",
       " 473,\n",
       " 474,\n",
       " 475,\n",
       " 476,\n",
       " 477,\n",
       " 478,\n",
       " 480,\n",
       " 481,\n",
       " 482,\n",
       " 483,\n",
       " 484,\n",
       " 485,\n",
       " 487,\n",
       " 488,\n",
       " 490,\n",
       " 491,\n",
       " 492,\n",
       " 493,\n",
       " 494,\n",
       " 495,\n",
       " 496,\n",
       " 499,\n",
       " 500,\n",
       " 503,\n",
       " 504,\n",
       " 506,\n",
       " 508,\n",
       " 510,\n",
       " 511,\n",
       " 512,\n",
       " 514,\n",
       " 515,\n",
       " 516,\n",
       " 517,\n",
       " 518,\n",
       " 519,\n",
       " 520,\n",
       " 521,\n",
       " 522,\n",
       " 523,\n",
       " 524,\n",
       " 525,\n",
       " 529,\n",
       " 530,\n",
       " 531,\n",
       " 532,\n",
       " 533,\n",
       " 534,\n",
       " 535,\n",
       " 536,\n",
       " 538,\n",
       " 539,\n",
       " 540,\n",
       " 541,\n",
       " 543,\n",
       " 544,\n",
       " 545,\n",
       " 546,\n",
       " 547,\n",
       " 548,\n",
       " 549,\n",
       " 550,\n",
       " 551,\n",
       " 552,\n",
       " 553,\n",
       " 554,\n",
       " 555,\n",
       " 557,\n",
       " 558,\n",
       " 561,\n",
       " 562,\n",
       " 563,\n",
       " 564,\n",
       " 566,\n",
       " 568,\n",
       " 571,\n",
       " 572,\n",
       " 573,\n",
       " 574,\n",
       " 575,\n",
       " 578,\n",
       " 579,\n",
       " 582,\n",
       " 583,\n",
       " 584,\n",
       " 585,\n",
       " 588,\n",
       " 589,\n",
       " 591,\n",
       " 593,\n",
       " 594,\n",
       " 595,\n",
       " 597,\n",
       " 598,\n",
       " 600,\n",
       " 601,\n",
       " 602,\n",
       " 603,\n",
       " 604,\n",
       " 606,\n",
       " 607,\n",
       " 608,\n",
       " 609,\n",
       " 610,\n",
       " 611,\n",
       " 612,\n",
       " 614,\n",
       " 616,\n",
       " 617,\n",
       " 618,\n",
       " 619,\n",
       " 621,\n",
       " 622,\n",
       " 623,\n",
       " 624,\n",
       " 625,\n",
       " 626,\n",
       " 629,\n",
       " 630,\n",
       " 631,\n",
       " 632,\n",
       " 633,\n",
       " 634,\n",
       " 636,\n",
       " 637,\n",
       " 640,\n",
       " 641,\n",
       " 643,\n",
       " 6,\n",
       " 19,\n",
       " 21,\n",
       " 33,\n",
       " 40,\n",
       " 44,\n",
       " 53,\n",
       " 54,\n",
       " 70,\n",
       " 78,\n",
       " 80,\n",
       " 86,\n",
       " 93,\n",
       " 94,\n",
       " 96,\n",
       " 100,\n",
       " 109,\n",
       " 112,\n",
       " 113,\n",
       " 140,\n",
       " 148,\n",
       " 153,\n",
       " 163,\n",
       " 190,\n",
       " 191,\n",
       " 198,\n",
       " 202,\n",
       " 205,\n",
       " 215,\n",
       " 221,\n",
       " 236,\n",
       " 246,\n",
       " 266,\n",
       " 268,\n",
       " 270,\n",
       " 277,\n",
       " 279,\n",
       " 286,\n",
       " 291,\n",
       " 299,\n",
       " 300,\n",
       " 305,\n",
       " 310,\n",
       " 314,\n",
       " 317,\n",
       " 320,\n",
       " 333,\n",
       " 336,\n",
       " 357,\n",
       " 362,\n",
       " 363,\n",
       " 365,\n",
       " 367,\n",
       " 368,\n",
       " 370,\n",
       " 390,\n",
       " 394,\n",
       " 413,\n",
       " 419,\n",
       " 426,\n",
       " 434,\n",
       " 438,\n",
       " 442,\n",
       " 450,\n",
       " 456,\n",
       " 460,\n",
       " 468,\n",
       " 497,\n",
       " 505,\n",
       " 509,\n",
       " 526,\n",
       " 527,\n",
       " 556,\n",
       " 559,\n",
       " 560,\n",
       " 569,\n",
       " 570,\n",
       " 577,\n",
       " 580,\n",
       " 586,\n",
       " 587,\n",
       " 590,\n",
       " 592,\n",
       " 599,\n",
       " 605,\n",
       " 627,\n",
       " 635,\n",
       " 638]"
      ]
     },
     "execution_count": 172,
     "metadata": {},
     "output_type": "execute_result"
    }
   ],
   "source": [
    "emptyindex"
   ]
  },
  {
   "cell_type": "code",
   "execution_count": null,
   "metadata": {},
   "outputs": [],
   "source": []
  }
 ],
 "metadata": {
  "kernelspec": {
   "display_name": "Python (tensorflow)",
   "language": "python",
   "name": "myenv"
  },
  "language_info": {
   "codemirror_mode": {
    "name": "ipython",
    "version": 3
   },
   "file_extension": ".py",
   "mimetype": "text/x-python",
   "name": "python",
   "nbconvert_exporter": "python",
   "pygments_lexer": "ipython3",
   "version": "3.6.7"
  }
 },
 "nbformat": 4,
 "nbformat_minor": 2
}
