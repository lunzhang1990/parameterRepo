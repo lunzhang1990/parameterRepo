{
 "cells": [
  {
   "cell_type": "markdown",
   "metadata": {},
   "source": [
    "from helpersRational import *\n",
    "run3rational('2_2_2','8_symmetric.dat')\n"
   ]
  },
  {
   "cell_type": "code",
   "execution_count": 2,
   "metadata": {},
   "outputs": [
    {
     "name": "stdout",
     "output_type": "stream",
     "text": [
      "4_2_2\n",
      "12 8\n",
      "12 4\n",
      "8 0\n",
      "4 0\n",
      "2 0\n",
      "1 0\n",
      "predecessors done\n",
      "logics done\n",
      "4_2_2\n",
      "12 8\n",
      "12 4\n",
      "8 0\n",
      "4 0\n",
      "2 0\n",
      "1 0\n",
      "predecessors done\n",
      "logics done\n",
      "4_2_2\n",
      "12 8\n",
      "12 4\n",
      "8 0\n",
      "4 0\n",
      "2 0\n",
      "1 0\n",
      "predecessors done\n",
      "logics done\n",
      "4_2_2\n",
      "12 8\n",
      "12 4\n",
      "8 0\n",
      "4 0\n",
      "2 0\n",
      "1 0\n",
      "predecessors done\n",
      "logics done\n",
      "4_2_2\n",
      "12 8\n",
      "12 4\n",
      "8 0\n",
      "4 0\n",
      "2 0\n",
      "1 0\n",
      "predecessors done\n",
      "logics done\n",
      "4_2_2\n",
      "12 8\n",
      "12 4\n",
      "8 0\n",
      "4 0\n",
      "2 0\n",
      "1 0\n",
      "predecessors done\n",
      "logics done\n",
      "4_2_2\n",
      "12 8\n",
      "12 4\n",
      "8 0\n",
      "4 0\n",
      "2 0\n",
      "1 0\n",
      "predecessors done\n",
      "logics done\n",
      "4_2_2\n",
      "12 8\n",
      "12 4\n",
      "8 0\n",
      "4 0\n",
      "2 0\n",
      "1 0\n",
      "predecessors done\n",
      "logics done\n",
      "4_2_2\n",
      "12 8\n",
      "12 4\n",
      "8 0\n",
      "4 0\n",
      "2 0\n",
      "1 0\n",
      "predecessors done\n",
      "logics done\n",
      "4_2_2\n",
      "12 8\n",
      "12 4\n",
      "8 0\n",
      "4 0\n",
      "2 0\n",
      "1 0\n",
      "predecessors done\n",
      "logics done\n",
      "791.752149105072\n"
     ]
    }
   ],
   "source": [
    "import time\n",
    "from helpersRational import *\n",
    "\n",
    "start = time.time()\n",
    "\n",
    "logic, preOrderFile, extraRestrictionFile = \"4_2_2\", \"42_r.dat\", \"restrictions211.json\"\n",
    "#logic = sys.argv[1]\n",
    "#preOrderFile = sys.argv[2]\n",
    "#extraRestrictionFile = sys.argv[3]\n",
    "#pattern = list(map(lambda x:int(x),logic.split('_')))\n",
    "#restrictedOrdering = list(map(lambda x: int(x),sys.argv[2:]))\n",
    "#file_no = int(sys.argv[2])\n",
    "#print(subpattern)\n",
    "\n",
    "pres = []\n",
    "with open(preOrderFile,'r') as file:\n",
    "    line = file.readline()[:-1]\n",
    "    while line:\n",
    "        line = line.split(' ')\n",
    "        line = list(map(lambda x: int(x), line))\n",
    "        pres.append(tuple(line))\n",
    "        line = file.readline()[:-1]\n",
    "\n",
    "#run5(logic,pres[file_no])\n",
    "#print(pres[file_no])\n",
    "for i in range(len(pres)):\n",
    "    print(logic)\n",
    "    run5rational(logic,pres[i],extraRestrictionFile,np.array([[0,0,0,0,1,-1,-1,1]]))\n",
    "    \n",
    "print(time.time()-start)"
   ]
  },
  {
   "cell_type": "code",
   "execution_count": 3,
   "metadata": {},
   "outputs": [
    {
     "data": {
      "text/plain": [
       "'/Users/lunzhang/Desktop/parameterSpaceComputation/4inputs/2222/rational2222'"
      ]
     },
     "execution_count": 3,
     "metadata": {},
     "output_type": "execute_result"
    }
   ],
   "source": [
    "pwd"
   ]
  },
  {
   "cell_type": "code",
   "execution_count": null,
   "metadata": {},
   "outputs": [],
   "source": []
  }
 ],
 "metadata": {
  "kernelspec": {
   "display_name": "SageMath 8.9",
   "language": "sage",
   "name": "sagemath"
  },
  "language_info": {
   "codemirror_mode": {
    "name": "ipython",
    "version": 3
   },
   "file_extension": ".py",
   "mimetype": "text/x-python",
   "name": "python",
   "nbconvert_exporter": "python",
   "pygments_lexer": "ipython3",
   "version": "3.6.7"
  }
 },
 "nbformat": 4,
 "nbformat_minor": 2
}
