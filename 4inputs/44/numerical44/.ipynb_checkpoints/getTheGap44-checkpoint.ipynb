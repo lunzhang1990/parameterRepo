{
 "cells": [
  {
   "cell_type": "code",
   "execution_count": 36,
   "metadata": {},
   "outputs": [],
   "source": [
    "import os \n",
    "import json"
   ]
  },
  {
   "cell_type": "code",
   "execution_count": 15,
   "metadata": {},
   "outputs": [],
   "source": [
    "filelist = []\n",
    "for file in os.listdir():\n",
    "    if file.startswith('4_4') and file.endswith('.dat'):\n",
    "        filelist.append(file)"
   ]
  },
  {
   "cell_type": "code",
   "execution_count": 25,
   "metadata": {},
   "outputs": [],
   "source": [
    "linearizedOrders = []\n",
    "for file in filelist:\n",
    "    with open(file,'r') as file:\n",
    "        line = file.readline()\n",
    "        while line:\n",
    "            linearizedOrders.append(tuple(eval(line)))\n",
    "            line = file.readline()"
   ]
  },
  {
   "cell_type": "code",
   "execution_count": 26,
   "metadata": {},
   "outputs": [
    {
     "data": {
      "text/plain": [
       "1980"
      ]
     },
     "execution_count": 26,
     "metadata": {},
     "output_type": "execute_result"
    }
   ],
   "source": [
    "len(linearizedOrders)"
   ]
  },
  {
   "cell_type": "code",
   "execution_count": 27,
   "metadata": {},
   "outputs": [],
   "source": [
    "sampleOrders = []\n",
    "with open('../../../Sampler/sample44/44prec3.dat','r') as file:\n",
    "    line = file.readline()\n",
    "    while line:\n",
    "        temp = eval(line.split(':')[0])\n",
    "        sampleOrders.append(temp)\n",
    "        line = file.readline()"
   ]
  },
  {
   "cell_type": "code",
   "execution_count": 28,
   "metadata": {},
   "outputs": [
    {
     "data": {
      "text/plain": [
       "1336"
      ]
     },
     "execution_count": 28,
     "metadata": {},
     "output_type": "execute_result"
    }
   ],
   "source": [
    "len(sampleOrders)"
   ]
  },
  {
   "cell_type": "code",
   "execution_count": 31,
   "metadata": {},
   "outputs": [
    {
     "name": "stdout",
     "output_type": "stream",
     "text": [
      "1980 1980\n",
      "1336 1336\n"
     ]
    }
   ],
   "source": [
    "# test whehter it is delta[4] > delta[3] and delta[2] > delta[1]\n",
    "count1 = 0\n",
    "for order in linearizedOrders:\n",
    "    if order.index(1) < order.index(2) and order.index(4) < order.index(8):\n",
    "        count1+=1\n",
    "print(count1, len(linearizedOrders))\n",
    "\n",
    "count2 = 0\n",
    "for order in sampleOrders:\n",
    "    if order.index(1) < order.index(2) and order.index(4) < order.index(8):\n",
    "        count2+=1\n",
    "        \n",
    "print(count2, len(sampleOrders))\n",
    "\n",
    "# test result is correct"
   ]
  },
  {
   "cell_type": "code",
   "execution_count": 32,
   "metadata": {},
   "outputs": [
    {
     "data": {
      "text/plain": [
       "True"
      ]
     },
     "execution_count": 32,
     "metadata": {},
     "output_type": "execute_result"
    }
   ],
   "source": [
    "# it is a strict subset\n",
    "set(sampleOrders).issubset(set(linearizedOrders))"
   ]
  },
  {
   "cell_type": "code",
   "execution_count": 35,
   "metadata": {},
   "outputs": [
    {
     "data": {
      "text/plain": [
       "644"
      ]
     },
     "execution_count": 35,
     "metadata": {},
     "output_type": "execute_result"
    }
   ],
   "source": [
    "gap = list(set(linearizedOrders) - set(sampleOrders))\n",
    "len(gap)"
   ]
  },
  {
   "cell_type": "code",
   "execution_count": null,
   "metadata": {},
   "outputs": [],
   "source": [
    "# by using symmetry of first and second sum component we can assume p_{8+4} > p_{2+1}"
   ]
  },
  {
   "cell_type": "code",
   "execution_count": 39,
   "metadata": {},
   "outputs": [],
   "source": [
    "with open('gap44.json','w') as file:\n",
    "    json.dump(gap,file)"
   ]
  },
  {
   "cell_type": "code",
   "execution_count": 38,
   "metadata": {},
   "outputs": [
    {
     "data": {
      "text/plain": [
       "'/Users/lunzhang/Desktop/parameterSpaceComputation/4inputs/44/numerical44'"
      ]
     },
     "execution_count": 38,
     "metadata": {},
     "output_type": "execute_result"
    }
   ],
   "source": [
    "pwd"
   ]
  },
  {
   "cell_type": "markdown",
   "metadata": {},
   "source": [
    "# Analyze the 3 second cad data by using symmetry of (delta[1],delta[2]) and (delta[3],delta[4])"
   ]
  },
  {
   "cell_type": "code",
   "execution_count": 92,
   "metadata": {},
   "outputs": [],
   "source": [
    "def symmetricOrder(order):\n",
    "    ret = [0 for _ in order]\n",
    "    for i in range(len(order)):\n",
    "        temp = tosymmetric(order[i])\n",
    "        ret[i] = temp\n",
    "    return ret\n",
    "\n",
    "def tosymmetric(i):\n",
    "    temp = format(i,'04b')\n",
    "    ret = temp[2:]  +temp[:2]\n",
    "    return int(ret,2)"
   ]
  },
  {
   "cell_type": "code",
   "execution_count": 201,
   "metadata": {},
   "outputs": [],
   "source": [
    "with open('cad44/nodret3s.json','r') as file:\n",
    "    emptyindex = json.load(file)\n",
    "    # minus one for python index\n",
    "    emptyindex =[i-1 for i in emptyindex] "
   ]
  },
  {
   "cell_type": "code",
   "execution_count": 222,
   "metadata": {},
   "outputs": [],
   "source": [
    "gaprest= []\n",
    "notknow = []\n",
    "for i in range(len(gap)):\n",
    "    if i not in emptyindex:\n",
    "        notknow.append(i)\n",
    "        gaprest.append(gap[i])"
   ]
  },
  {
   "cell_type": "code",
   "execution_count": 223,
   "metadata": {},
   "outputs": [
    {
     "data": {
      "text/plain": [
       "12"
      ]
     },
     "execution_count": 223,
     "metadata": {},
     "output_type": "execute_result"
    }
   ],
   "source": [
    "len(gaprest)"
   ]
  },
  {
   "cell_type": "code",
   "execution_count": 224,
   "metadata": {},
   "outputs": [
    {
     "data": {
      "text/plain": [
       "632"
      ]
     },
     "execution_count": 224,
     "metadata": {},
     "output_type": "execute_result"
    }
   ],
   "source": [
    "len(emptyindex)"
   ]
  },
  {
   "cell_type": "code",
   "execution_count": 229,
   "metadata": {
    "scrolled": true
   },
   "outputs": [],
   "source": [
    "s = set()\n",
    "for i in range(len(notknow)):\n",
    "    j = notknow[i]\n",
    "    first = gap[j]\n",
    "    second = tuple(symmetricOrder(first))\n",
    "    k = gap.index(second)\n",
    "    s.add(tuple(sorted((j,k))))"
   ]
  },
  {
   "cell_type": "code",
   "execution_count": 230,
   "metadata": {},
   "outputs": [
    {
     "data": {
      "text/plain": [
       "{(60, 124), (88, 101), (122, 294), (321, 576), (371, 403), (389, 479)}"
      ]
     },
     "execution_count": 230,
     "metadata": {},
     "output_type": "execute_result"
    }
   ],
   "source": [
    "s"
   ]
  },
  {
   "cell_type": "code",
   "execution_count": 217,
   "metadata": {},
   "outputs": [
    {
     "data": {
      "text/plain": [
       "169"
      ]
     },
     "execution_count": 217,
     "metadata": {},
     "output_type": "execute_result"
    }
   ],
   "source": [
    "gap.index(tuple(symmetricOrder(gap[61])))"
   ]
  },
  {
   "cell_type": "code",
   "execution_count": 221,
   "metadata": {},
   "outputs": [
    {
     "data": {
      "text/plain": [
       "[(0, 4, 8, 1, 12, 2, 3, 5, 9, 6, 10, 7, 13, 11, 14, 15),\n",
       " (0, 4, 1, 2, 8, 3, 5, 6, 12, 9, 7, 10, 13, 11, 14, 15),\n",
       " (0, 1, 4, 8, 2, 12, 5, 9, 3, 6, 13, 10, 7, 14, 11, 15),\n",
       " (0, 1, 4, 8, 2, 12, 5, 3, 9, 6, 10, 13, 7, 14, 11, 15),\n",
       " (0, 1, 2, 4, 3, 8, 12, 5, 6, 9, 10, 13, 7, 14, 11, 15),\n",
       " (0, 4, 1, 2, 8, 3, 5, 12, 6, 9, 10, 7, 13, 11, 14, 15),\n",
       " (0, 4, 8, 1, 12, 2, 3, 5, 6, 9, 7, 10, 13, 11, 14, 15),\n",
       " (0, 4, 1, 2, 8, 3, 5, 12, 6, 7, 9, 10, 13, 11, 14, 15),\n",
       " (0, 1, 4, 8, 2, 12, 5, 3, 9, 6, 13, 10, 7, 14, 11, 15),\n",
       " (0, 1, 4, 8, 2, 12, 5, 3, 9, 13, 6, 10, 7, 14, 11, 15),\n",
       " (0, 4, 1, 2, 8, 3, 5, 12, 6, 9, 7, 10, 13, 11, 14, 15),\n",
       " (0, 1, 2, 4, 3, 8, 12, 5, 9, 6, 13, 10, 7, 14, 11, 15)]"
      ]
     },
     "execution_count": 221,
     "metadata": {},
     "output_type": "execute_result"
    }
   ],
   "source": [
    "gaprest"
   ]
  },
  {
   "cell_type": "code",
   "execution_count": null,
   "metadata": {},
   "outputs": [],
   "source": []
  }
 ],
 "metadata": {
  "kernelspec": {
   "display_name": "Python (tensorflow)",
   "language": "python",
   "name": "myenv"
  },
  "language_info": {
   "codemirror_mode": {
    "name": "ipython",
    "version": 3
   },
   "file_extension": ".py",
   "mimetype": "text/x-python",
   "name": "python",
   "nbconvert_exporter": "python",
   "pygments_lexer": "ipython3",
   "version": "3.6.7"
  }
 },
 "nbformat": 4,
 "nbformat_minor": 2
}
